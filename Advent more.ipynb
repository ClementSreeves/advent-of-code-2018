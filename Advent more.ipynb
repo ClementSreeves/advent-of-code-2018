{
 "cells": [
  {
   "cell_type": "code",
   "execution_count": 1,
   "metadata": {},
   "outputs": [],
   "source": [
    "import re\n",
    "import numpy as np"
   ]
  },
  {
   "cell_type": "code",
   "execution_count": 2,
   "metadata": {},
   "outputs": [],
   "source": [
    "def read_input(day):\n",
    "    with open(f'Inputs/input{day}') as f:\n",
    "        return f.read().rstrip('\\n')\n",
    "#Norvig functions\n",
    "def mapt(fn, *args): \n",
    "    \"Do a map, and make the results into a tuple.\"\n",
    "    return tuple(map(fn, *args))\n",
    "\n",
    "def Array(lines):\n",
    "    \"Parse an iterable of str lines into a 2-D array. If `lines` is a str, splitlines.\"\n",
    "    if isinstance(lines, str): lines = lines.splitlines()\n",
    "    return mapt(Vector, lines)\n",
    "\n",
    "def Vector(line):\n",
    "    \"Parse a str into a tuple of atoms (numbers or str tokens).\"\n",
    "    return mapt(Atom, line.replace(',', ' ').split())\n",
    "\n",
    "def Integers(text): \n",
    "    \"Return a tuple of all integers in a string.\"\n",
    "    return mapt(int, re.findall(r'-?\\b\\d+\\b', text))\n",
    "\n",
    "def Integers2(text): \n",
    "    \"Return a tuple of all integers in a string.\"\n",
    "    return mapt(int, re.findall(r'\\d+', text))\n",
    "\n",
    "def Atom(token):\n",
    "    \"Parse a str token into a number, or leave it as a str.\"\n",
    "    try:\n",
    "        return int(token)\n",
    "    except ValueError:\n",
    "        try:\n",
    "            return float(token)\n",
    "        except ValueError:\n",
    "            return token"
   ]
  },
  {
   "cell_type": "markdown",
   "metadata": {},
   "source": [
    "# Day 25"
   ]
  },
  {
   "cell_type": "code",
   "execution_count": 7,
   "metadata": {},
   "outputs": [
    {
     "data": {
      "text/plain": [
       "((-8, -4, -4, -5), (0, 8, 3, 8), (0, 0, 8, -2), (2, 6, 4, -2), (6, 5, 0, -7))"
      ]
     },
     "execution_count": 7,
     "metadata": {},
     "output_type": "execute_result"
    }
   ],
   "source": [
    "points = Array(read_input(25))\n",
    "points[:5]"
   ]
  },
  {
   "cell_type": "code",
   "execution_count": 8,
   "metadata": {},
   "outputs": [],
   "source": [
    "def manhattan_distance(a, b):\n",
    "    if len(a) != len(b):\n",
    "        raise ValueError('a and b must be the same length')\n",
    "    return sum([abs(b[i] - a[i]) for i in range(len(a))])\n",
    "    \n",
    "assert(manhattan_distance((0,0), (3,4)) == 7)\n",
    "assert(manhattan_distance((0,-1,0), (1,1,2)) == 5)"
   ]
  },
  {
   "cell_type": "code",
   "execution_count": 21,
   "metadata": {},
   "outputs": [],
   "source": [
    "def in_group_range(point, group, max_dist=3):\n",
    "    return any([manhattan_distance(point, x) <= max_dist for x in group])"
   ]
  },
  {
   "cell_type": "code",
   "execution_count": 41,
   "metadata": {},
   "outputs": [],
   "source": [
    "def constellations(points, max_dist=3):\n",
    "    groups = []\n",
    "    for point in points:\n",
    "        new_group = [point]\n",
    "        group_copy = groups[:]\n",
    "        for group in group_copy:\n",
    "            if in_group_range(point, group, max_dist=max_dist):\n",
    "                new_group.extend(group)\n",
    "                groups.remove(group)\n",
    "        groups.append(new_group)\n",
    "    return groups"
   ]
  },
  {
   "cell_type": "code",
   "execution_count": 42,
   "metadata": {},
   "outputs": [
    {
     "data": {
      "text/plain": [
       "4"
      ]
     },
     "execution_count": 42,
     "metadata": {},
     "output_type": "execute_result"
    }
   ],
   "source": [
    "len(constellations(Array(\"\"\"\n",
    "-1,2,2,0\n",
    "0,0,2,-2\n",
    "0,0,0,-2\n",
    "-1,2,0,0\n",
    "-2,-2,-2,2\n",
    "3,0,2,-1\n",
    "-1,3,2,2\n",
    "-1,0,-1,0\n",
    "0,2,1,-2\n",
    "3,0,0,0\n",
    "\"\"\".strip())))"
   ]
  },
  {
   "cell_type": "code",
   "execution_count": 43,
   "metadata": {},
   "outputs": [
    {
     "data": {
      "text/plain": [
       "3"
      ]
     },
     "execution_count": 43,
     "metadata": {},
     "output_type": "execute_result"
    }
   ],
   "source": [
    "len(constellations(Array(\"\"\"\n",
    "1,-1,0,1\n",
    "2,0,-1,0\n",
    "3,2,-1,0\n",
    "0,0,3,1\n",
    "0,0,-1,-1\n",
    "2,3,-2,0\n",
    "-2,2,0,0\n",
    "2,-2,0,-1\n",
    "1,-1,0,-1\n",
    "3,2,0,2\n",
    "\"\"\".strip())))"
   ]
  },
  {
   "cell_type": "code",
   "execution_count": 44,
   "metadata": {},
   "outputs": [
    {
     "data": {
      "text/plain": [
       "8"
      ]
     },
     "execution_count": 44,
     "metadata": {},
     "output_type": "execute_result"
    }
   ],
   "source": [
    "len(constellations(Array(\"\"\"\n",
    "1,-1,-1,-2\n",
    "-2,-2,0,1\n",
    "0,2,1,3\n",
    "-2,3,-2,1\n",
    "0,2,3,-2\n",
    "-1,-1,1,-2\n",
    "0,-2,-1,0\n",
    "-2,2,3,-1\n",
    "1,2,2,0\n",
    "-1,-2,0,-2\n",
    "\"\"\".strip())))"
   ]
  },
  {
   "cell_type": "code",
   "execution_count": 45,
   "metadata": {},
   "outputs": [
    {
     "data": {
      "text/plain": [
       "394"
      ]
     },
     "execution_count": 45,
     "metadata": {},
     "output_type": "execute_result"
    }
   ],
   "source": [
    "len(constellations(points))"
   ]
  },
  {
   "cell_type": "markdown",
   "metadata": {},
   "source": [
    "# Day 24"
   ]
  },
  {
   "cell_type": "code",
   "execution_count": 296,
   "metadata": {},
   "outputs": [],
   "source": [
    "class Group():\n",
    "    \n",
    "    def __init__(self, army, num_units, unit_power, unit_hp, initiative, attack_type, weaknesses=None, immunities=None):\n",
    "        self.army = army\n",
    "        self.num_units = num_units\n",
    "        self.unit_power = unit_power\n",
    "        self.unit_hp = unit_hp\n",
    "        self.initiative = initiative\n",
    "        self.attack_type = attack_type\n",
    "        self.weaknesses = weaknesses if weaknesses else []\n",
    "        self.immunities = immunities if immunities else []  \n",
    "\n",
    "    def receive_damage(self, amount):\n",
    "        killed_units = amount // self.unit_hp\n",
    "        self.num_units = max(0, self.num_units - killed_units)\n",
    "        \n",
    "    def is_enemy(self, army):\n",
    "        return self.army != army\n",
    "    \n",
    "    @property\n",
    "    def effective_power(self):\n",
    "        return self.unit_power * self.num_units\n",
    "    \n",
    "    def __repr__(self):\n",
    "        return f\"{self.army} group with {self.num_units} units. Attack type: {self.attack_type}. Immune to {self.immunities}\""
   ]
  },
  {
   "cell_type": "code",
   "execution_count": 53,
   "metadata": {},
   "outputs": [
    {
     "data": {
      "text/plain": [
       "144"
      ]
     },
     "execution_count": 53,
     "metadata": {},
     "output_type": "execute_result"
    }
   ],
   "source": [
    "g = Group(army='immune', num_units=18, unit_power=8, unit_hp=729, initiative=10, attack_type='radiation', \n",
    "          weaknesses=['fire'], immunities=['cold', 'slashing'])\n",
    "g.effective_power"
   ]
  },
  {
   "cell_type": "code",
   "execution_count": 98,
   "metadata": {},
   "outputs": [],
   "source": [
    "def target_selection(all_groups):\n",
    "    targets = {}\n",
    "    for attacker in sorted(all_groups, key=attacker_priority, reverse=True):\n",
    "        candidate_targets = [group for group in all_groups if attacker.is_enemy(group.army) and group not in targets.values()]\n",
    "        if candidate_targets:\n",
    "            best_target = max(candidate_targets, key=target_prioritisation(attacker))\n",
    "            if maximal_damage(attacker, best_target) > 0:\n",
    "                targets[attacker] = best_target\n",
    "    return targets"
   ]
  },
  {
   "cell_type": "code",
   "execution_count": 73,
   "metadata": {},
   "outputs": [],
   "source": [
    "def damage_phase(targets):\n",
    "    for attacker, defender in sorted(targets.items(), key=lambda x: x[0].initiative, reverse=True):\n",
    "        defender.receive_damage(maximal_damage(attacker, defender))"
   ]
  },
  {
   "cell_type": "code",
   "execution_count": 74,
   "metadata": {},
   "outputs": [],
   "source": [
    "def fight(all_groups):\n",
    "    targets = target_selection(all_groups)\n",
    "    damage_phase(targets)\n",
    "    return [g for g in all_groups if g.num_units > 0]"
   ]
  },
  {
   "cell_type": "code",
   "execution_count": 104,
   "metadata": {},
   "outputs": [],
   "source": [
    "imm1 = Group(army='immune', num_units=17, unit_hp=5390, unit_power=4507, attack_type='fire', initiative=2, \n",
    "          weaknesses=['radiation', 'bludgeoning'])\n",
    "imm2 = Group(army='immune', num_units=989, unit_hp=1274, unit_power=25, attack_type='slashing', initiative=3,  \n",
    "          weaknesses=['slashing', 'bludgeoning'], immunities=['fire'])\n",
    "\n",
    "inf1 = Group(army='infection', num_units=801, unit_hp=4706, unit_power=116, attack_type='bludgeoning', initiative=1, \n",
    "          weaknesses=['radiation'])\n",
    "inf2 = Group(army='infection', num_units=4485, unit_hp=2961, unit_power=12, attack_type='slashing', initiative=4, \n",
    "          weaknesses=['fire', 'cold'], immunities=['radiation'])\n",
    "\n",
    "all_groups = [imm1, imm2, inf1, inf2]"
   ]
  },
  {
   "cell_type": "code",
   "execution_count": 100,
   "metadata": {},
   "outputs": [
    {
     "data": {
      "text/plain": [
       "{immune group with 17 units: infection group with 4485 units,\n",
       " immune group with 989 units: infection group with 801 units,\n",
       " infection group with 4485 units: immune group with 989 units,\n",
       " infection group with 801 units: immune group with 17 units}"
      ]
     },
     "execution_count": 100,
     "metadata": {},
     "output_type": "execute_result"
    }
   ],
   "source": [
    "target_selection(all_groups)"
   ]
  },
  {
   "cell_type": "code",
   "execution_count": 101,
   "metadata": {},
   "outputs": [
    {
     "data": {
      "text/plain": [
       "[immune group with 905 units,\n",
       " infection group with 797 units,\n",
       " infection group with 4434 units]"
      ]
     },
     "execution_count": 101,
     "metadata": {},
     "output_type": "execute_result"
    }
   ],
   "source": [
    "f1 = fight(all_groups)\n",
    "f1"
   ]
  },
  {
   "cell_type": "code",
   "execution_count": 102,
   "metadata": {},
   "outputs": [
    {
     "data": {
      "text/plain": [
       "{immune group with 905 units: infection group with 797 units,\n",
       " infection group with 797 units: immune group with 905 units}"
      ]
     },
     "execution_count": 102,
     "metadata": {},
     "output_type": "execute_result"
    }
   ],
   "source": [
    "target_selection(f1)"
   ]
  },
  {
   "cell_type": "code",
   "execution_count": 103,
   "metadata": {},
   "outputs": [
    {
     "data": {
      "text/plain": [
       "[immune group with 761 units,\n",
       " infection group with 793 units,\n",
       " infection group with 4434 units]"
      ]
     },
     "execution_count": 103,
     "metadata": {},
     "output_type": "execute_result"
    }
   ],
   "source": [
    "fight(f1)"
   ]
  },
  {
   "cell_type": "code",
   "execution_count": 105,
   "metadata": {},
   "outputs": [
    {
     "name": "stdout",
     "output_type": "stream",
     "text": [
      "[immune group with 905 units, infection group with 797 units, infection group with 4434 units]\n",
      "[immune group with 761 units, infection group with 793 units, infection group with 4434 units]\n",
      "[immune group with 618 units, infection group with 789 units, infection group with 4434 units]\n",
      "[immune group with 475 units, infection group with 786 units, infection group with 4434 units]\n",
      "[immune group with 333 units, infection group with 784 units, infection group with 4434 units]\n",
      "[immune group with 191 units, infection group with 783 units, infection group with 4434 units]\n",
      "[immune group with 49 units, infection group with 782 units, infection group with 4434 units]\n",
      "[infection group with 782 units, infection group with 4434 units]\n"
     ]
    },
    {
     "data": {
      "text/plain": [
       "5216"
      ]
     },
     "execution_count": 105,
     "metadata": {},
     "output_type": "execute_result"
    }
   ],
   "source": [
    "while len(set([g.army for g in all_groups])) > 1:\n",
    "    all_groups = fight(all_groups)\n",
    "    print(all_groups)\n",
    "sum([g.num_units for g in all_groups])"
   ]
  },
  {
   "cell_type": "code",
   "execution_count": 65,
   "metadata": {},
   "outputs": [],
   "source": [
    "def attacker_priority(attacker):\n",
    "    \"For use in sorting attackers in target selection phase\"\n",
    "    return (attacker.effective_power, attacker.initiative)"
   ]
  },
  {
   "cell_type": "code",
   "execution_count": 66,
   "metadata": {},
   "outputs": [],
   "source": [
    "def target_prioritisation(attacker):\n",
    "    def target_priority(defender):\n",
    "        \"For use in sorting possible targets in target selection phase\"\n",
    "        return (maximal_damage(attacker, defender), defender.effective_power, defender.initiative)\n",
    "    return target_priority"
   ]
  },
  {
   "cell_type": "code",
   "execution_count": 67,
   "metadata": {},
   "outputs": [],
   "source": [
    "def maximal_damage(attacker, defender):\n",
    "    if attacker.attack_type in defender.immunities:\n",
    "        return 0\n",
    "    elif attacker.attack_type in defender.weaknesses:\n",
    "        return attacker.effective_power * 2\n",
    "    else:\n",
    "        return attacker.effective_power"
   ]
  },
  {
   "cell_type": "code",
   "execution_count": 177,
   "metadata": {},
   "outputs": [],
   "source": [
    "test = \"89 units each with 11269 hit points (weak to fire, radiation) with an attack that does 1018 slashing damage at initiative 7\""
   ]
  },
  {
   "cell_type": "code",
   "execution_count": 256,
   "metadata": {},
   "outputs": [],
   "source": [
    "def parse_group_description(description):\n",
    "    num_units, unit_hp, unit_power, initiative = Integers(description)\n",
    "    attack_type = re.match(r\".* (?P<attack_type>\\w+) damage\", description).group('attack_type')\n",
    "    weaknesses = re.match(r\"(.*weak to (?P<weaknesses>\\w+(?:, \\w+)*).*)?\", description).group('weaknesses')\n",
    "    weaknesses = weaknesses.split(', ') if weaknesses else None\n",
    "    immunities = re.match(r\"(.*immune to (?P<immunities>\\w+(?:, \\w+)*).*)?\", description).group('immunities')\n",
    "    immunities = immunities.split(', ') if immunities else None\n",
    "    return {'num_units': num_units, 'unit_hp': unit_hp, 'unit_power': unit_power, 'initiative': initiative,\n",
    "            'attack_type': attack_type, 'weaknesses': weaknesses, 'immunities': immunities}"
   ]
  },
  {
   "cell_type": "code",
   "execution_count": 257,
   "metadata": {},
   "outputs": [
    {
     "data": {
      "text/plain": [
       "{'attack_type': 'slashing',\n",
       " 'immunities': None,\n",
       " 'initiative': 7,\n",
       " 'num_units': 89,\n",
       " 'unit_hp': 11269,\n",
       " 'unit_power': 1018,\n",
       " 'weaknesses': ['fire', 'radiation']}"
      ]
     },
     "execution_count": 257,
     "metadata": {},
     "output_type": "execute_result"
    }
   ],
   "source": [
    "parse_group_description(test)"
   ]
  },
  {
   "cell_type": "code",
   "execution_count": 272,
   "metadata": {},
   "outputs": [],
   "source": [
    "def create_groups():\n",
    "    immune, infection = read_input(24).split('\\n\\n')\n",
    "    start_groups = []\n",
    "    for group_description in immune.splitlines()[1:]:\n",
    "        attributes = parse_group_description(group_description)\n",
    "        start_groups.append(Group(army='immune', **attributes))\n",
    "    for group_description in infection.splitlines()[1:]:\n",
    "        attributes = parse_group_description(group_description)\n",
    "        start_groups.append(Group(army='infection', **attributes))\n",
    "    return start_groups"
   ]
  },
  {
   "cell_type": "code",
   "execution_count": 309,
   "metadata": {},
   "outputs": [],
   "source": [
    "def battle(all_groups):\n",
    "    while len(set([g.army for g in all_groups])) > 1:\n",
    "        all_groups = fight(all_groups)\n",
    "    return all_groups"
   ]
  },
  {
   "cell_type": "code",
   "execution_count": 281,
   "metadata": {},
   "outputs": [
    {
     "data": {
      "text/plain": [
       "22996"
      ]
     },
     "execution_count": 281,
     "metadata": {},
     "output_type": "execute_result"
    }
   ],
   "source": [
    "start_groups = create_groups()\n",
    "all_groups = battle(start_groups)\n",
    "sum([g.num_units for g in all_groups])"
   ]
  },
  {
   "cell_type": "code",
   "execution_count": 282,
   "metadata": {},
   "outputs": [
    {
     "data": {
      "text/plain": [
       "[infection group with 3186 units,\n",
       " infection group with 1252 units,\n",
       " infection group with 2241 units,\n",
       " infection group with 2590 units,\n",
       " infection group with 1650 units,\n",
       " infection group with 7766 units,\n",
       " infection group with 1790 units,\n",
       " infection group with 264 units,\n",
       " infection group with 2257 units]"
      ]
     },
     "execution_count": 282,
     "metadata": {},
     "output_type": "execute_result"
    }
   ],
   "source": [
    "all_groups"
   ]
  },
  {
   "cell_type": "code",
   "execution_count": 311,
   "metadata": {},
   "outputs": [
    {
     "name": "stdout",
     "output_type": "stream",
     "text": [
      "150\n",
      "57\n",
      "51\n"
     ]
    },
    {
     "data": {
      "text/plain": [
       "4327"
      ]
     },
     "execution_count": 311,
     "metadata": {},
     "output_type": "execute_result"
    }
   ],
   "source": [
    "increments = [100, 7, 1]\n",
    "boost = 50\n",
    "\n",
    "for increment in increments:\n",
    "    while True:\n",
    "        boost += increment\n",
    "        print(boost)\n",
    "        all_groups = create_groups()\n",
    "        immune_army = [g for g in all_groups if g.army == 'immune']\n",
    "        for g in immune_army:\n",
    "            g.unit_power += boost        \n",
    "        all_groups = battle(all_groups)\n",
    "        if all_groups[0].army == 'immune':\n",
    "            break\n",
    "    if increment > 1:\n",
    "        boost -= increment #we went too far\n",
    "sum([g.num_units for g in all_groups])"
   ]
  },
  {
   "cell_type": "markdown",
   "metadata": {},
   "source": [
    "# Day 17"
   ]
  },
  {
   "cell_type": "code",
   "execution_count": 1,
   "metadata": {},
   "outputs": [],
   "source": [
    "test_input = \"\"\"x=495, y=2..7\n",
    "y=7, x=495..501\n",
    "x=501, y=3..7\n",
    "x=498, y=2..4\n",
    "x=506, y=1..2\n",
    "x=498, y=10..13\n",
    "x=504, y=10..13\n",
    "y=13, x=498..504\"\"\""
   ]
  },
  {
   "cell_type": "code",
   "execution_count": 2,
   "metadata": {},
   "outputs": [],
   "source": [
    "def create_ground_slice(description):\n",
    "    ground_slice = np.full((2000, 2000), '.')\n",
    "    for line in description.split('\\n'):\n",
    "        ground_slice[parse_line(line)] = '#'\n",
    "    return ground_slice"
   ]
  },
  {
   "cell_type": "code",
   "execution_count": 7,
   "metadata": {},
   "outputs": [],
   "source": [
    "def parse_line(line):\n",
    "    fixed, start, end = Integers(line)\n",
    "    return (fixed, slice(start, end + 1)) if line[0] == 'y' else (slice(start, end + 1), fixed)\n",
    "\n",
    "assert(parse_line('x=495, y=2..7') == (slice(2, 8), 495))\n",
    "assert(parse_line('y=13, x=498..504') == (13, slice(498, 505)))"
   ]
  },
  {
   "cell_type": "code",
   "execution_count": 16,
   "metadata": {},
   "outputs": [
    {
     "data": {
      "text/plain": [
       "array([['.', '.', '.', '.', '.', '.', '.', '.', '.', '.', '.', '.'],\n",
       "       ['.', '.', '.', '.', '.', '.', '.', '.', '.', '.', '.', '#'],\n",
       "       ['#', '.', '.', '#', '.', '.', '.', '.', '.', '.', '.', '#'],\n",
       "       ['#', '.', '.', '#', '.', '.', '#', '.', '.', '.', '.', '.'],\n",
       "       ['#', '.', '.', '#', '.', '.', '#', '.', '.', '.', '.', '.'],\n",
       "       ['#', '.', '.', '.', '.', '.', '#', '.', '.', '.', '.', '.'],\n",
       "       ['#', '.', '.', '.', '.', '.', '#', '.', '.', '.', '.', '.'],\n",
       "       ['#', '#', '#', '#', '#', '#', '#', '.', '.', '.', '.', '.'],\n",
       "       ['.', '.', '.', '.', '.', '.', '.', '.', '.', '.', '.', '.'],\n",
       "       ['.', '.', '.', '.', '.', '.', '.', '.', '.', '.', '.', '.'],\n",
       "       ['.', '.', '.', '#', '.', '.', '.', '.', '.', '#', '.', '.'],\n",
       "       ['.', '.', '.', '#', '.', '.', '.', '.', '.', '#', '.', '.'],\n",
       "       ['.', '.', '.', '#', '.', '.', '.', '.', '.', '#', '.', '.'],\n",
       "       ['.', '.', '.', '#', '#', '#', '#', '#', '#', '#', '.', '.'],\n",
       "       ['.', '.', '.', '.', '.', '.', '.', '.', '.', '.', '.', '.'],\n",
       "       ['.', '.', '.', '.', '.', '.', '.', '.', '.', '.', '.', '.'],\n",
       "       ['.', '.', '.', '.', '.', '.', '.', '.', '.', '.', '.', '.'],\n",
       "       ['.', '.', '.', '.', '.', '.', '.', '.', '.', '.', '.', '.'],\n",
       "       ['.', '.', '.', '.', '.', '.', '.', '.', '.', '.', '.', '.'],\n",
       "       ['.', '.', '.', '.', '.', '.', '.', '.', '.', '.', '.', '.']],\n",
       "      dtype='<U1')"
      ]
     },
     "execution_count": 16,
     "metadata": {},
     "output_type": "execute_result"
    }
   ],
   "source": [
    "create_ground_slice(test_input)[:20, 495:507]"
   ]
  },
  {
   "cell_type": "code",
   "execution_count": 4,
   "metadata": {},
   "outputs": [],
   "source": [
    "def below(x, y):\n",
    "    return (x + 1, y)\n",
    "\n",
    "def above(x, y):\n",
    "    return (x - 1, y)\n",
    "\n",
    "def left(x, y):\n",
    "    return (x, y - 1)\n",
    "\n",
    "def right(x, y):\n",
    "    return (x, y + 1)"
   ]
  },
  {
   "cell_type": "code",
   "execution_count": 38,
   "metadata": {},
   "outputs": [],
   "source": [
    "def explore_below(start, ground_slice):\n",
    "    current_loc = start\n",
    "    loc_type = ground_slice[current_loc]\n",
    "    while loc_type in '.|':\n",
    "        current_loc = below(*current_loc)\n",
    "        try:\n",
    "            loc_type = ground_slice[current_loc]\n",
    "        except IndexError:\n",
    "            break\n",
    "    return above(*current_loc)\n",
    "\n",
    "def explore_sideways(direction, start, ground_slice):\n",
    "    current_loc = start\n",
    "    while ground_slice[current_loc] in '.|' and ground_slice[below(*current_loc)] in '~#':\n",
    "        current_loc = direction(*current_loc)\n",
    "    if ground_slice[current_loc] in '~#':\n",
    "        return (current_loc, 'blocked')\n",
    "    else:\n",
    "        return (current_loc, 'overflow')"
   ]
  },
  {
   "cell_type": "code",
   "execution_count": 83,
   "metadata": {},
   "outputs": [],
   "source": [
    "def pour(source, ground_slice, poured=[]):\n",
    "    poured.append(source)\n",
    "    bottom = explore_below(source, ground_slice)\n",
    "    ground_slice[source[0]:bottom[0], source[1]] = '|'\n",
    "    if below(*bottom)[0] == ground_slice.shape[0]:\n",
    "        return\n",
    "    while True:\n",
    "        leftmost, l_status = explore_sideways(left, bottom, ground_slice)\n",
    "        rightmost, r_status = explore_sideways(right, bottom, ground_slice)\n",
    "        spread = (leftmost[0], slice(right(*leftmost)[1], rightmost[1]))\n",
    "        if l_status == 'blocked' and r_status == 'blocked':\n",
    "            ground_slice[spread] = '~'\n",
    "            bottom = above(*bottom)\n",
    "        else:\n",
    "            ground_slice[spread] = '|'\n",
    "            break\n",
    "    if l_status == 'overflow' and leftmost not in poured:\n",
    "        pour(leftmost, ground_slice)\n",
    "    if r_status == 'overflow' and rightmost not in poured:\n",
    "        pour(rightmost, ground_slice)"
   ]
  },
  {
   "cell_type": "code",
   "execution_count": 65,
   "metadata": {},
   "outputs": [
    {
     "data": {
      "text/plain": [
       "array([['.', '.', '.', '.', '.', '|', '.', '.', '.', '.', '.', '.'],\n",
       "       ['.', '.', '.', '.', '.', '|', '.', '.', '.', '.', '.', '#'],\n",
       "       ['#', '.', '.', '#', '|', '|', '|', '|', '.', '.', '.', '#'],\n",
       "       ['#', '.', '.', '#', '~', '~', '#', '|', '.', '.', '.', '.'],\n",
       "       ['#', '.', '.', '#', '~', '~', '#', '|', '.', '.', '.', '.'],\n",
       "       ['#', '~', '~', '~', '~', '~', '#', '|', '.', '.', '.', '.'],\n",
       "       ['#', '~', '~', '~', '~', '~', '#', '|', '.', '.', '.', '.'],\n",
       "       ['#', '#', '#', '#', '#', '#', '#', '|', '.', '.', '.', '.'],\n",
       "       ['.', '.', '.', '.', '.', '.', '.', '|', '.', '.', '.', '.'],\n",
       "       ['.', '.', '|', '|', '|', '|', '|', '|', '|', '|', '|', '.'],\n",
       "       ['.', '.', '|', '#', '~', '~', '~', '~', '~', '#', '|', '.'],\n",
       "       ['.', '.', '|', '#', '~', '~', '~', '~', '~', '#', '|', '.'],\n",
       "       ['.', '.', '|', '#', '~', '~', '~', '~', '~', '#', '|', '.'],\n",
       "       ['.', '.', '|', '#', '#', '#', '#', '#', '#', '#', '|', '.'],\n",
       "       ['.', '.', '|', '.', '.', '.', '.', '.', '.', '.', '|', '.'],\n",
       "       ['.', '.', '|', '.', '.', '.', '.', '.', '.', '.', '|', '.'],\n",
       "       ['.', '.', '|', '.', '.', '.', '.', '.', '.', '.', '|', '.'],\n",
       "       ['.', '.', '|', '.', '.', '.', '.', '.', '.', '.', '|', '.'],\n",
       "       ['.', '.', '|', '.', '.', '.', '.', '.', '.', '.', '|', '.'],\n",
       "       ['.', '.', '|', '.', '.', '.', '.', '.', '.', '.', '|', '.']],\n",
       "      dtype='<U1')"
      ]
     },
     "execution_count": 65,
     "metadata": {},
     "output_type": "execute_result"
    }
   ],
   "source": [
    "test_slice = create_ground_slice(test_input)\n",
    "pour((0, 500), test_slice)\n",
    "test_slice[:20, 495:507]"
   ]
  },
  {
   "cell_type": "code",
   "execution_count": 89,
   "metadata": {},
   "outputs": [],
   "source": [
    "def water_sum(array):\n",
    "    clay_rows = [i for i in range(len(array)) if '#' in array[i]]\n",
    "    valid_slice = array[min(clay_rows):max(clay_rows) + 1]\n",
    "    return (valid_slice == '~').sum() + (valid_slice == '|').sum()"
   ]
  },
  {
   "cell_type": "code",
   "execution_count": 91,
   "metadata": {},
   "outputs": [],
   "source": [
    "def water_sum2(array):\n",
    "    clay_rows = [i for i in range(len(array)) if '#' in array[i]]\n",
    "    valid_slice = array[min(clay_rows):max(clay_rows) + 1]\n",
    "    return (valid_slice == '~').sum()"
   ]
  },
  {
   "cell_type": "code",
   "execution_count": 92,
   "metadata": {},
   "outputs": [
    {
     "data": {
      "text/plain": [
       "57"
      ]
     },
     "execution_count": 92,
     "metadata": {},
     "output_type": "execute_result"
    }
   ],
   "source": [
    "water_sum(test_slice)"
   ]
  },
  {
   "cell_type": "code",
   "execution_count": 93,
   "metadata": {},
   "outputs": [
    {
     "data": {
      "text/plain": [
       "29"
      ]
     },
     "execution_count": 93,
     "metadata": {},
     "output_type": "execute_result"
    }
   ],
   "source": [
    "water_sum2(test_slice)"
   ]
  },
  {
   "cell_type": "code",
   "execution_count": 84,
   "metadata": {},
   "outputs": [],
   "source": [
    "ground_slice = create_ground_slice(read_input(17))\n",
    "pour((0, 500), ground_slice)"
   ]
  },
  {
   "cell_type": "code",
   "execution_count": 90,
   "metadata": {},
   "outputs": [
    {
     "data": {
      "text/plain": [
       "34541"
      ]
     },
     "execution_count": 90,
     "metadata": {},
     "output_type": "execute_result"
    }
   ],
   "source": [
    "water_sum(ground_slice)"
   ]
  },
  {
   "cell_type": "code",
   "execution_count": 94,
   "metadata": {},
   "outputs": [
    {
     "data": {
      "text/plain": [
       "28000"
      ]
     },
     "execution_count": 94,
     "metadata": {},
     "output_type": "execute_result"
    }
   ],
   "source": [
    "water_sum2(ground_slice)"
   ]
  },
  {
   "cell_type": "markdown",
   "metadata": {},
   "source": [
    "# Day 20"
   ]
  },
  {
   "cell_type": "code",
   "execution_count": 5,
   "metadata": {},
   "outputs": [],
   "source": [
    "direction_map = {'N': above, 'S': below, 'E': right, 'W': left}"
   ]
  },
  {
   "cell_type": "code",
   "execution_count": 72,
   "metadata": {},
   "outputs": [],
   "source": [
    "def parse_regex(regex, start_node):\n",
    "    trackbacks = [] # list of points to return to in case of branches (LIFO)\n",
    "    branch_ends = [] # list of sets of points to add to current_nodes\n",
    "    current_nodes = [start_node]\n",
    "    for char in regex:\n",
    "        if char == '$':\n",
    "            pass\n",
    "        elif char == '^':\n",
    "            pass\n",
    "        elif char == '(':\n",
    "            trackbacks.append(tuple(current_nodes))\n",
    "            branch_ends.append([])\n",
    "        elif char == ')':\n",
    "            branch_ends[-1].append(tuple(current_nodes))\n",
    "            current_nodes = list(set(flatten(branch_ends.pop())))\n",
    "            trackbacks.pop()\n",
    "        elif char == '|':\n",
    "            branch_ends[-1].append(tuple(current_nodes))\n",
    "            current_nodes = list(trackbacks[-1])\n",
    "        else:\n",
    "            direction = direction_map[char]\n",
    "            for i in range(len(current_nodes)):\n",
    "                transition_node = direction(*current_nodes[i])\n",
    "                destination_node = direction(*transition_node)\n",
    "                yield (current_nodes[i], transition_node, destination_node)\n",
    "                current_nodes[i] = destination_node"
   ]
  },
  {
   "cell_type": "code",
   "execution_count": 73,
   "metadata": {},
   "outputs": [],
   "source": [
    "for i in parse_regex('^ENWWW(NEEE|SSE(EE|N))$', (5, 5)):\n",
    "    pass"
   ]
  },
  {
   "cell_type": "code",
   "execution_count": 74,
   "metadata": {},
   "outputs": [],
   "source": [
    "def flatten(sequence):\n",
    "    return [x for item in sequence for x in item]"
   ]
  },
  {
   "cell_type": "code",
   "execution_count": 118,
   "metadata": {},
   "outputs": [],
   "source": [
    "def create_map(regex, size=21):\n",
    "    facility_map = np.full((size, size), '?')\n",
    "    start_node = (size//2, size//2)\n",
    "    facility_map[start_node] = '.'\n",
    "    for start, trans, destination in parse_regex(regex, start_node):\n",
    "        facility_map[trans] = '/'\n",
    "        facility_map[destination] = '.'\n",
    "    facility_map[facility_map == '?'] = '#'\n",
    "    return facility_map, start_node"
   ]
  },
  {
   "cell_type": "code",
   "execution_count": 76,
   "metadata": {},
   "outputs": [],
   "source": [
    "def print_map(m):\n",
    "    for row in m:\n",
    "        print(''.join(row))"
   ]
  },
  {
   "cell_type": "code",
   "execution_count": 119,
   "metadata": {},
   "outputs": [
    {
     "name": "stdout",
     "output_type": "stream",
     "text": [
      "#####################\n",
      "#####################\n",
      "#####################\n",
      "#####################\n",
      "#####################\n",
      "#####################\n",
      "######./././.########\n",
      "######/##############\n",
      "######./././.########\n",
      "######/#####/########\n",
      "######.#.#./.########\n",
      "######/#/############\n",
      "######./././.########\n",
      "#####################\n",
      "#####################\n",
      "#####################\n",
      "#####################\n",
      "#####################\n",
      "#####################\n",
      "#####################\n",
      "#####################\n"
     ]
    }
   ],
   "source": [
    "test_regex = '^ENWWW(NEEE|SSE(EE|N))$'\n",
    "m, start = create_map(test_regex, size=21)\n",
    "print_map(m)"
   ]
  },
  {
   "cell_type": "code",
   "execution_count": 121,
   "metadata": {},
   "outputs": [
    {
     "data": {
      "text/plain": [
       "10"
      ]
     },
     "execution_count": 121,
     "metadata": {},
     "output_type": "execute_result"
    }
   ],
   "source": [
    "max(get_room_distances(m, start).values())"
   ]
  },
  {
   "cell_type": "code",
   "execution_count": 123,
   "metadata": {},
   "outputs": [
    {
     "data": {
      "text/plain": [
       "18"
      ]
     },
     "execution_count": 123,
     "metadata": {},
     "output_type": "execute_result"
    }
   ],
   "source": [
    "test_regex = '^ENNWSWW(NEWS|)SSSEEN(WNSE|)EE(SWEN|)NNN$'\n",
    "m, start = create_map(test_regex, size=21)\n",
    "max(get_room_distances(m, start).values())"
   ]
  },
  {
   "cell_type": "code",
   "execution_count": 124,
   "metadata": {},
   "outputs": [
    {
     "data": {
      "text/plain": [
       "23"
      ]
     },
     "execution_count": 124,
     "metadata": {},
     "output_type": "execute_result"
    }
   ],
   "source": [
    "test_regex = '^ESSWWN(E|NNENN(EESS(WNSE|)SSS|WWWSSSSE(SW|NNNE)))$'\n",
    "m, start = create_map(test_regex, size=21)\n",
    "max(get_room_distances(m, start).values())"
   ]
  },
  {
   "cell_type": "code",
   "execution_count": 125,
   "metadata": {},
   "outputs": [
    {
     "data": {
      "text/plain": [
       "31"
      ]
     },
     "execution_count": 125,
     "metadata": {},
     "output_type": "execute_result"
    }
   ],
   "source": [
    "test_regex = '^WSSEESWWWNW(S|NENNEEEENN(ESSSSW(NWSW|SSEN)|WSWWN(E|WWS(E|SS))))$'\n",
    "m, start = create_map(test_regex, size=21)\n",
    "max(get_room_distances(m, start).values())"
   ]
  },
  {
   "cell_type": "code",
   "execution_count": 126,
   "metadata": {},
   "outputs": [
    {
     "data": {
      "text/plain": [
       "3958"
      ]
     },
     "execution_count": 126,
     "metadata": {},
     "output_type": "execute_result"
    }
   ],
   "source": [
    "m, start = create_map(read_input(20), size=301)\n",
    "max(get_room_distances(m, start).values())"
   ]
  },
  {
   "cell_type": "code",
   "execution_count": 127,
   "metadata": {},
   "outputs": [
    {
     "data": {
      "text/plain": [
       "8566"
      ]
     },
     "execution_count": 127,
     "metadata": {},
     "output_type": "execute_result"
    }
   ],
   "source": [
    "sum([x >= 1000 for x in get_room_distances(m, start).values()])"
   ]
  },
  {
   "cell_type": "code",
   "execution_count": 105,
   "metadata": {},
   "outputs": [],
   "source": [
    "import heapq"
   ]
  },
  {
   "cell_type": "code",
   "execution_count": 117,
   "metadata": {},
   "outputs": [],
   "source": [
    "def get_room_distances(facility_map, start):\n",
    "    room_heap = [] # we will maintain a heap of (passed_doors, room) tuples\n",
    "    heapq.heappush(room_heap, (0, start))\n",
    "    room_distances = {start: 0}\n",
    "    while room_heap:\n",
    "        doors, room = heapq.heappop(room_heap)\n",
    "        neibouring_rooms = [n for n in get_neighbouring_rooms(room, facility_map) if n not in room_distances]\n",
    "        for n in neibouring_rooms:\n",
    "            heapq.heappush(room_heap, (doors + 1, n))\n",
    "            room_distances[n] = doors + 1\n",
    "    return room_distances   "
   ]
  },
  {
   "cell_type": "code",
   "execution_count": 108,
   "metadata": {},
   "outputs": [],
   "source": [
    "def get_neighbouring_rooms(room, facility_map):\n",
    "    neighbouring_rooms = []\n",
    "    for direction in direction_map.values():\n",
    "        if facility_map[direction(*room)] == '/':\n",
    "            neighbouring_rooms.append(direction(*direction(*room)))\n",
    "    return neighbouring_rooms"
   ]
  },
  {
   "cell_type": "markdown",
   "metadata": {},
   "source": [
    "# Day 23"
   ]
  },
  {
   "cell_type": "code",
   "execution_count": 128,
   "metadata": {},
   "outputs": [],
   "source": [
    "def manhattan_distance(a, b):\n",
    "    if len(a) != len(b):\n",
    "        raise ValueError('a and b must be the same length')\n",
    "    return sum([abs(b[i] - a[i]) for i in range(len(a))])\n",
    "    \n",
    "assert(manhattan_distance((0,0), (3,4)) == 7)\n",
    "assert(manhattan_distance((0,-1,0), (1,1,2)) == 5)"
   ]
  },
  {
   "cell_type": "code",
   "execution_count": 129,
   "metadata": {},
   "outputs": [
    {
     "data": {
      "text/plain": [
       "((-33594389, 69103993, 46909087, 93546878),\n",
       " (67619021, 22999634, 40676275, 81086929),\n",
       " (111047329, 44087494, 53754703, 96875177),\n",
       " (49661119, 55848282, 9865303, 91139231),\n",
       " (40162628, 85216421, 62921753, 68894464))"
      ]
     },
     "execution_count": 129,
     "metadata": {},
     "output_type": "execute_result"
    }
   ],
   "source": [
    "nanobot_data = mapt(Integers, read_input(23).splitlines())\n",
    "nanobot_data[:5]"
   ]
  },
  {
   "cell_type": "code",
   "execution_count": 130,
   "metadata": {},
   "outputs": [],
   "source": [
    "radiuses = [d[3] for d in nanobot_data]\n",
    "positions = [d[:3] for d in nanobot_data]"
   ]
  },
  {
   "cell_type": "code",
   "execution_count": 131,
   "metadata": {},
   "outputs": [],
   "source": [
    "strongest_radius = max(radiuses)\n",
    "strongest_index = radiuses.index(strongest_radius)\n",
    "strongest_position = positions[strongest_index]"
   ]
  },
  {
   "cell_type": "code",
   "execution_count": 132,
   "metadata": {},
   "outputs": [
    {
     "data": {
      "text/plain": [
       "396"
      ]
     },
     "execution_count": 132,
     "metadata": {},
     "output_type": "execute_result"
    }
   ],
   "source": [
    "sum([1 for p in positions if manhattan_distance(p, strongest_position) <= strongest_radius])"
   ]
  },
  {
   "cell_type": "markdown",
   "metadata": {},
   "source": [
    "### Part 2"
   ]
  },
  {
   "cell_type": "code",
   "execution_count": 133,
   "metadata": {},
   "outputs": [],
   "source": [
    "def bots_in_range(point, bot_locations, bot_radiuses):\n",
    "    return sum([1 for i in range(len(bot_locations)) if manhattan_distance(bot_locations[i], point) <= bot_radiuses[i]])"
   ]
  },
  {
   "cell_type": "markdown",
   "metadata": {},
   "source": [
    "The idea is to divide space up into cubes of side length $2^{n}$. First we start with a cube big enough such that it is in range of all bots, and put this cube to the top of a priority queue, in the form of a (bots_in_range, dist_to_origin, cube) tuple. Then the algorithm is as follows:\n",
    "\n",
    "- pop the top of the priority queue\n",
    "- if the cube has side length = 1, this is the best\n",
    "- divide into 8 subcubes (of half the side length) and add these to the queue\n",
    "\n",
    "This works because when a cube of side length 1 gets to the top, nothing behind can beat it since everything else will either have fewer potential bots in range of be further from the origin."
   ]
  },
  {
   "cell_type": "code",
   "execution_count": 159,
   "metadata": {},
   "outputs": [],
   "source": [
    "def bot_extremities(bot):\n",
    "    x, y, z, radius = bot\n",
    "    return ((x+radius, y, z), (x-radius, y, z), (x, y+radius, z), (x, y-radius, z), (x, y, z+radius), (x, y, z-radius))"
   ]
  },
  {
   "cell_type": "code",
   "execution_count": 201,
   "metadata": {},
   "outputs": [],
   "source": [
    "def cube_extremities(cube):\n",
    "    x, y, z, side_length = cube\n",
    "    step = side_length - 1\n",
    "    return ((x, y, z), (x+step, y, z), (x, y+step, z), (x, y, z+step),\n",
    "            (x+step, y+step, z), (x+step, y, z+step), (x, y+step, z+step), \n",
    "            (x+step, y+step, z+step))"
   ]
  },
  {
   "cell_type": "code",
   "execution_count": 153,
   "metadata": {},
   "outputs": [],
   "source": [
    "def in_cube(point, cube):\n",
    "    *bottom_corner, side_length = cube\n",
    "    step = side_length - 1\n",
    "    return all([bottom_corner[i] <= point[i] <= bottom_corner[i] + step for i in range(len(point))])\n",
    "\n",
    "assert(in_cube((1,1,1), (0,0,0,2)))\n",
    "assert(not in_cube((1,1,1), (0,0,0,1)))"
   ]
  },
  {
   "cell_type": "code",
   "execution_count": 192,
   "metadata": {},
   "outputs": [],
   "source": [
    "def has_intersection(bot, cube):\n",
    "    \"sketchy\"\n",
    "    cube_in_bot = any([manhattan_distance(ce, bot[:3]) <= bot[3] for ce in cube_extremities(cube)])\n",
    "    bot_in_cube = any([in_cube(be, cube) for be in bot_extremities(bot)])\n",
    "    return cube_in_bot or bot_in_cube"
   ]
  },
  {
   "cell_type": "code",
   "execution_count": 155,
   "metadata": {},
   "outputs": [],
   "source": [
    "def split(cube):\n",
    "    x, y, z, side_length = cube\n",
    "    if side_length % 2 != 0:\n",
    "        raise ValueError(\"cube is not of even length - cannot split\")\n",
    "    step = side_length // 2\n",
    "    return ((x, y, z, step), (x+step, y, z, step), (x, y+step, z, step), (x, y, z+step, step),\n",
    "            (x+step, y+step, z, step), (x+step, y, z+step, step), (x, y+step, z+step, step), \n",
    "            (x+step, y+step, z+step, step))"
   ]
  },
  {
   "cell_type": "code",
   "execution_count": 211,
   "metadata": {},
   "outputs": [],
   "source": [
    "def min_cube_dist(cube):\n",
    "    \"sketchy\"\n",
    "    return min([manhattan_distance(ce, (0, 0, 0)) for ce in cube_extremities(cube)])"
   ]
  },
  {
   "cell_type": "code",
   "execution_count": 215,
   "metadata": {},
   "outputs": [],
   "source": [
    "def get_initial_cube(bots):\n",
    "    i=1\n",
    "    while True:\n",
    "        side_length = 2**i\n",
    "        bottom_corner = (-side_length//2, -side_length//2, -side_length//2)\n",
    "        cube = (*bottom_corner, side_length)\n",
    "        if sum([has_intersection(bot, cube) for bot in bots]) >= len(bots):\n",
    "            return cube\n",
    "        i += 1"
   ]
  },
  {
   "cell_type": "code",
   "execution_count": 209,
   "metadata": {},
   "outputs": [
    {
     "data": {
      "text/plain": [
       "(-268435456, -268435456, -268435456, 536870912)"
      ]
     },
     "execution_count": 209,
     "metadata": {},
     "output_type": "execute_result"
    }
   ],
   "source": [
    "initial_cube(nanobot_data)"
   ]
  },
  {
   "cell_type": "code",
   "execution_count": 225,
   "metadata": {},
   "outputs": [],
   "source": [
    "def get_best_point(bots):\n",
    "    initial_cube = get_initial_cube(bots)\n",
    "    cube_heap = [] # we will maintain a heap of (-bots_in_range, dist_to_origin, cube) tuples\n",
    "    origin = (0, 0, 0)\n",
    "    initial_element = (-len(bots), manhattan_distance(initial_cube[:3], origin), initial_cube)\n",
    "    heapq.heappush(cube_heap, initial_element)\n",
    "    while cube_heap:\n",
    "        *_, cube = heapq.heappop(cube_heap)\n",
    "        if cube[3] == 1:\n",
    "            return cube\n",
    "        sub_cubes = split(cube)\n",
    "        for c in sub_cubes:\n",
    "            bots_in_range = sum([has_intersection(bot, c) for bot in bots])\n",
    "            distance = min_cube_dist(c)\n",
    "            print(bots_in_range)\n",
    "            heapq.heappush(cube_heap, (-bots_in_range, distance, c))"
   ]
  },
  {
   "cell_type": "code",
   "execution_count": 226,
   "metadata": {},
   "outputs": [
    {
     "name": "stdout",
     "output_type": "stream",
     "text": [
      "45\n",
      "78\n",
      "171\n",
      "165\n",
      "773\n",
      "693\n",
      "755\n",
      "993\n",
      "987\n",
      "311\n",
      "325\n",
      "200\n",
      "7\n",
      "4\n",
      "1\n",
      "0\n",
      "975\n",
      "748\n",
      "900\n",
      "871\n",
      "673\n",
      "563\n",
      "713\n",
      "526\n",
      "594\n",
      "737\n",
      "753\n",
      "773\n",
      "849\n",
      "844\n",
      "974\n",
      "928\n",
      "796\n",
      "949\n",
      "788\n",
      "907\n",
      "915\n",
      "974\n",
      "752\n",
      "928\n",
      "974\n",
      "926\n",
      "974\n",
      "969\n",
      "953\n",
      "838\n",
      "972\n",
      "905\n",
      "724\n",
      "833\n",
      "849\n",
      "369\n",
      "944\n",
      "932\n",
      "974\n",
      "974\n",
      "348\n",
      "841\n",
      "813\n",
      "359\n",
      "950\n",
      "470\n",
      "341\n",
      "974\n",
      "929\n",
      "944\n",
      "902\n",
      "945\n",
      "921\n",
      "973\n",
      "825\n",
      "900\n",
      "945\n",
      "935\n",
      "974\n",
      "974\n",
      "941\n",
      "823\n",
      "974\n",
      "938\n",
      "348\n",
      "974\n",
      "845\n",
      "365\n",
      "952\n",
      "472\n",
      "345\n",
      "869\n",
      "223\n",
      "826\n",
      "945\n",
      "323\n",
      "827\n",
      "324\n",
      "354\n",
      "825\n",
      "818\n",
      "940\n",
      "918\n",
      "945\n",
      "920\n",
      "942\n",
      "949\n",
      "942\n",
      "348\n",
      "843\n",
      "850\n",
      "370\n",
      "850\n",
      "370\n",
      "348\n",
      "974\n",
      "974\n",
      "945\n",
      "974\n",
      "974\n",
      "935\n",
      "820\n",
      "938\n",
      "938\n",
      "843\n",
      "945\n",
      "945\n",
      "945\n",
      "942\n",
      "827\n",
      "974\n",
      "945\n",
      "348\n",
      "370\n",
      "348\n",
      "370\n",
      "850\n",
      "370\n",
      "243\n",
      "472\n",
      "354\n",
      "827\n",
      "974\n",
      "354\n",
      "820\n",
      "318\n",
      "318\n",
      "820\n",
      "843\n",
      "945\n",
      "974\n",
      "472\n",
      "945\n",
      "827\n",
      "974\n",
      "974\n",
      "949\n",
      "942\n",
      "949\n",
      "974\n",
      "913\n",
      "935\n",
      "913\n",
      "935\n",
      "821\n",
      "843\n",
      "850\n",
      "872\n",
      "920\n",
      "945\n",
      "952\n",
      "974\n",
      "354\n",
      "354\n",
      "472\n",
      "354\n",
      "820\n",
      "318\n",
      "213\n",
      "318\n",
      "472\n",
      "974\n",
      "974\n",
      "472\n",
      "974\n",
      "354\n",
      "367\n",
      "940\n",
      "952\n",
      "971\n",
      "949\n",
      "974\n",
      "913\n",
      "938\n",
      "811\n",
      "935\n",
      "348\n",
      "974\n",
      "847\n",
      "367\n",
      "952\n",
      "472\n",
      "345\n",
      "869\n",
      "223\n",
      "827\n",
      "945\n",
      "325\n",
      "827\n",
      "325\n",
      "354\n",
      "827\n",
      "818\n",
      "942\n",
      "920\n",
      "945\n",
      "920\n",
      "942\n",
      "949\n",
      "942\n",
      "348\n",
      "370\n",
      "348\n",
      "370\n",
      "850\n",
      "370\n",
      "243\n",
      "472\n",
      "847\n",
      "940\n",
      "813\n",
      "835\n",
      "808\n",
      "833\n",
      "811\n",
      "833\n",
      "974\n",
      "945\n",
      "974\n",
      "974\n",
      "937\n",
      "822\n",
      "940\n",
      "938\n",
      "843\n",
      "945\n",
      "974\n",
      "472\n",
      "945\n",
      "827\n",
      "974\n",
      "974\n",
      "827\n",
      "793\n",
      "940\n",
      "822\n",
      "788\n",
      "791\n",
      "820\n",
      "820\n",
      "821\n",
      "843\n",
      "850\n",
      "872\n",
      "818\n",
      "843\n",
      "850\n",
      "974\n",
      "354\n",
      "354\n",
      "472\n",
      "354\n",
      "822\n",
      "320\n",
      "215\n",
      "318\n",
      "370\n",
      "974\n",
      "974\n",
      "472\n",
      "974\n",
      "354\n",
      "367\n",
      "974\n",
      "952\n",
      "971\n",
      "949\n",
      "974\n",
      "915\n",
      "940\n",
      "813\n",
      "935\n",
      "253\n",
      "349\n",
      "243\n",
      "244\n",
      "755\n",
      "275\n",
      "243\n",
      "346\n",
      "341\n",
      "223\n",
      "370\n",
      "252\n",
      "843\n",
      "223\n",
      "370\n",
      "354\n",
      "821\n",
      "819\n",
      "847\n",
      "851\n",
      "818\n",
      "843\n",
      "850\n",
      "950\n",
      "847\n",
      "974\n",
      "847\n",
      "869\n",
      "810\n",
      "835\n",
      "813\n",
      "833\n",
      "872\n",
      "974\n",
      "953\n",
      "472\n",
      "974\n",
      "974\n",
      "879\n",
      "974\n",
      "827\n",
      "827\n",
      "974\n",
      "856\n",
      "790\n",
      "793\n",
      "822\n",
      "820\n",
      "843\n",
      "843\n",
      "843\n",
      "341\n",
      "843\n",
      "725\n",
      "872\n",
      "945\n",
      "377\n",
      "354\n",
      "367\n",
      "249\n",
      "845\n",
      "225\n",
      "333\n",
      "213\n",
      "857\n",
      "950\n",
      "844\n",
      "848\n",
      "820\n",
      "845\n",
      "813\n",
      "809\n",
      "252\n",
      "325\n",
      "472\n",
      "354\n",
      "856\n",
      "354\n",
      "354\n",
      "354\n",
      "851\n",
      "942\n",
      "949\n",
      "974\n",
      "950\n",
      "974\n",
      "953\n",
      "971\n",
      "945\n",
      "824\n",
      "971\n",
      "856\n",
      "908\n",
      "793\n",
      "940\n",
      "817\n",
      "851\n",
      "843\n",
      "850\n",
      "370\n",
      "851\n",
      "872\n",
      "851\n",
      "974\n",
      "974\n",
      "974\n",
      "879\n",
      "377\n",
      "940\n",
      "822\n",
      "835\n",
      "843\n",
      "370\n",
      "472\n",
      "377\n",
      "377\n",
      "974\n",
      "354\n",
      "367\n",
      "377\n",
      "843\n",
      "942\n",
      "942\n",
      "945\n",
      "942\n",
      "827\n",
      "974\n",
      "942\n",
      "851\n",
      "843\n",
      "850\n",
      "407\n",
      "851\n",
      "872\n",
      "851\n",
      "974\n",
      "370\n",
      "509\n",
      "414\n",
      "377\n",
      "974\n",
      "364\n",
      "367\n",
      "414\n",
      "856\n",
      "827\n",
      "974\n",
      "354\n",
      "822\n",
      "822\n",
      "822\n",
      "820\n",
      "843\n",
      "942\n",
      "942\n",
      "945\n",
      "942\n",
      "837\n",
      "974\n",
      "942\n",
      "851\n",
      "836\n",
      "850\n",
      "860\n",
      "870\n",
      "894\n",
      "873\n",
      "962\n",
      "429\n",
      "974\n",
      "867\n",
      "377\n",
      "974\n",
      "509\n",
      "404\n",
      "879\n",
      "866\n",
      "827\n",
      "974\n",
      "391\n",
      "832\n",
      "822\n",
      "832\n",
      "820\n",
      "862\n",
      "942\n",
      "935\n",
      "950\n",
      "942\n",
      "942\n",
      "971\n",
      "947\n",
      "410\n",
      "569\n",
      "572\n",
      "399\n",
      "963\n",
      "426\n",
      "498\n",
      "652\n",
      "951\n",
      "974\n",
      "859\n",
      "557\n",
      "962\n",
      "974\n",
      "859\n",
      "879\n",
      "974\n",
      "842\n",
      "974\n",
      "866\n",
      "937\n",
      "822\n",
      "940\n",
      "830\n",
      "867\n",
      "837\n",
      "971\n",
      "541\n",
      "878\n",
      "834\n",
      "902\n",
      "863\n",
      "897\n",
      "958\n",
      "946\n",
      "958\n",
      "961\n",
      "974\n",
      "881\n",
      "969\n",
      "571\n",
      "974\n",
      "874\n",
      "458\n",
      "893\n",
      "571\n",
      "553\n",
      "851\n",
      "923\n",
      "963\n",
      "951\n",
      "735\n",
      "969\n",
      "974\n",
      "915\n",
      "974\n",
      "974\n",
      "968\n",
      "971\n",
      "974\n",
      "937\n",
      "868\n",
      "940\n",
      "936\n",
      "970\n",
      "952\n",
      "966\n",
      "974\n",
      "968\n",
      "970\n",
      "973\n",
      "943\n",
      "598\n",
      "746\n",
      "665\n",
      "513\n",
      "920\n",
      "546\n",
      "564\n",
      "647\n",
      "710\n",
      "831\n",
      "831\n",
      "678\n",
      "974\n",
      "717\n",
      "707\n",
      "842\n",
      "971\n",
      "960\n",
      "973\n",
      "974\n",
      "969\n",
      "919\n",
      "974\n",
      "955\n",
      "930\n",
      "974\n",
      "913\n",
      "788\n",
      "930\n",
      "935\n",
      "899\n",
      "908\n",
      "817\n",
      "924\n",
      "924\n",
      "777\n",
      "974\n",
      "830\n",
      "818\n",
      "935\n",
      "942\n",
      "912\n",
      "974\n",
      "790\n",
      "942\n",
      "909\n",
      "945\n",
      "910\n",
      "945\n",
      "974\n",
      "928\n",
      "896\n",
      "945\n",
      "950\n",
      "920\n",
      "927\n",
      "911\n",
      "963\n",
      "959\n",
      "874\n",
      "974\n",
      "935\n",
      "924\n",
      "974\n",
      "959\n",
      "936\n",
      "974\n",
      "906\n",
      "959\n",
      "930\n",
      "962\n",
      "937\n",
      "958\n",
      "970\n",
      "943\n",
      "946\n",
      "957\n",
      "963\n",
      "939\n",
      "942\n",
      "952\n",
      "959\n",
      "958\n",
      "961\n",
      "960\n",
      "964\n",
      "960\n",
      "972\n",
      "971\n",
      "957\n",
      "974\n",
      "962\n",
      "970\n",
      "946\n",
      "974\n",
      "958\n",
      "925\n",
      "974\n",
      "961\n",
      "897\n",
      "974\n",
      "933\n",
      "915\n",
      "963\n",
      "961\n",
      "968\n",
      "969\n",
      "972\n",
      "970\n",
      "969\n",
      "974\n",
      "971\n",
      "924\n",
      "935\n",
      "939\n",
      "909\n",
      "967\n",
      "923\n",
      "922\n",
      "947\n",
      "959\n",
      "974\n",
      "961\n",
      "938\n",
      "966\n",
      "968\n",
      "956\n",
      "961\n",
      "974\n",
      "874\n",
      "946\n",
      "874\n",
      "939\n",
      "840\n",
      "859\n",
      "867\n",
      "922\n",
      "884\n",
      "956\n",
      "656\n",
      "894\n",
      "857\n",
      "840\n",
      "872\n",
      "972\n",
      "960\n",
      "974\n",
      "962\n",
      "968\n",
      "949\n",
      "968\n",
      "955\n",
      "963\n",
      "971\n",
      "969\n",
      "972\n",
      "969\n",
      "972\n",
      "972\n",
      "969\n",
      "974\n",
      "961\n",
      "961\n",
      "962\n",
      "955\n",
      "927\n",
      "917\n",
      "946\n",
      "974\n",
      "965\n",
      "965\n",
      "966\n",
      "961\n",
      "950\n",
      "938\n",
      "958\n",
      "973\n",
      "969\n",
      "965\n",
      "970\n",
      "965\n",
      "965\n",
      "954\n",
      "965\n",
      "964\n",
      "966\n",
      "959\n",
      "951\n",
      "972\n",
      "974\n",
      "962\n",
      "965\n"
     ]
    },
    {
     "data": {
      "text/plain": [
       "(21131263, 40824380, 57450697, 1)"
      ]
     },
     "execution_count": 226,
     "metadata": {},
     "output_type": "execute_result"
    }
   ],
   "source": [
    "get_best_point(nanobot_data)"
   ]
  },
  {
   "cell_type": "code",
   "execution_count": 227,
   "metadata": {},
   "outputs": [
    {
     "data": {
      "text/plain": [
       "974"
      ]
     },
     "execution_count": 227,
     "metadata": {},
     "output_type": "execute_result"
    }
   ],
   "source": [
    "sum([has_intersection(bot, (21131263, 40824380, 57450697, 1)) for bot in nanobot_data])"
   ]
  },
  {
   "cell_type": "code",
   "execution_count": 228,
   "metadata": {},
   "outputs": [
    {
     "data": {
      "text/plain": [
       "119406340"
      ]
     },
     "execution_count": 228,
     "metadata": {},
     "output_type": "execute_result"
    }
   ],
   "source": [
    "manhattan_distance((21131263, 40824380, 57450697), (0, 0, 0))"
   ]
  },
  {
   "cell_type": "code",
   "execution_count": null,
   "metadata": {},
   "outputs": [],
   "source": []
  }
 ],
 "metadata": {
  "kernelspec": {
   "display_name": "Python 3",
   "language": "python",
   "name": "python3"
  },
  "language_info": {
   "codemirror_mode": {
    "name": "ipython",
    "version": 3
   },
   "file_extension": ".py",
   "mimetype": "text/x-python",
   "name": "python",
   "nbconvert_exporter": "python",
   "pygments_lexer": "ipython3",
   "version": "3.6.7"
  }
 },
 "nbformat": 4,
 "nbformat_minor": 2
}
