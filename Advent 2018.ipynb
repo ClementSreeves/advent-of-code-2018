{
 "cells": [
  {
   "cell_type": "code",
   "execution_count": 3,
   "metadata": {},
   "outputs": [],
   "source": [
    "from itertools import cycle\n",
    "from collections import Counter, defaultdict\n",
    "import numpy as np\n",
    "import pandas as pd\n",
    "import re\n",
    "import string"
   ]
  },
  {
   "cell_type": "code",
   "execution_count": 2,
   "metadata": {},
   "outputs": [],
   "source": [
    "def read_input(day):\n",
    "    with open(f'Inputs/input{day}') as f:\n",
    "        return f.read().rstrip('\\n')\n",
    "\n",
    "#Norvig functions\n",
    "def mapt(fn, *args): \n",
    "    \"Do a map, and make the results into a tuple.\"\n",
    "    return tuple(map(fn, *args))\n",
    "\n",
    "def Array(lines):\n",
    "    \"Parse an iterable of str lines into a 2-D array. If `lines` is a str, splitlines.\"\n",
    "    if isinstance(lines, str): lines = lines.splitlines()\n",
    "    return mapt(Vector, lines)\n",
    "\n",
    "def Vector(line):\n",
    "    \"Parse a str into a tuple of atoms (numbers or str tokens).\"\n",
    "    return mapt(Atom, line.replace(',', ' ').split())\n",
    "\n",
    "def Integers(text): \n",
    "    \"Return a tuple of all integers in a string.\"\n",
    "    return mapt(int, re.findall(r'-?\\b\\d+\\b', text))\n",
    "\n",
    "def Integers2(text): \n",
    "    \"Return a tuple of all integers in a string.\"\n",
    "    return mapt(int, re.findall(r'\\d+', text))\n",
    "\n",
    "def Atom(token):\n",
    "    \"Parse a str token into a number, or leave it as a str.\"\n",
    "    try:\n",
    "        return int(token)\n",
    "    except ValueError:\n",
    "        try:\n",
    "            return float(token)\n",
    "        except ValueError:\n",
    "            return token"
   ]
  },
  {
   "cell_type": "markdown",
   "metadata": {},
   "source": [
    "# Day 1"
   ]
  },
  {
   "cell_type": "markdown",
   "metadata": {},
   "source": [
    "### Part 1"
   ]
  },
  {
   "cell_type": "code",
   "execution_count": 8,
   "metadata": {},
   "outputs": [
    {
     "data": {
      "text/plain": [
       "[9, 1, -11, 8, -121858]"
      ]
     },
     "execution_count": 8,
     "metadata": {},
     "output_type": "execute_result"
    }
   ],
   "source": [
    "changes = [int(s) for s in read_input(1).split()]\n",
    "changes[-5:]"
   ]
  },
  {
   "cell_type": "code",
   "execution_count": 9,
   "metadata": {},
   "outputs": [
    {
     "data": {
      "text/plain": [
       "423"
      ]
     },
     "execution_count": 9,
     "metadata": {},
     "output_type": "execute_result"
    }
   ],
   "source": [
    "sum(changes)"
   ]
  },
  {
   "cell_type": "markdown",
   "metadata": {},
   "source": [
    "### Part 2"
   ]
  },
  {
   "cell_type": "code",
   "execution_count": 16,
   "metadata": {},
   "outputs": [],
   "source": [
    "def find_repeated_freq(changes):\n",
    "    observed_freqs = set()\n",
    "    current_freq = 0\n",
    "    for change in cycle(changes):\n",
    "        observed_freqs.add(current_freq)\n",
    "        current_freq += change\n",
    "        if current_freq in observed_freqs:\n",
    "            return current_freq        "
   ]
  },
  {
   "cell_type": "code",
   "execution_count": 17,
   "metadata": {},
   "outputs": [
    {
     "data": {
      "text/plain": [
       "61126"
      ]
     },
     "execution_count": 17,
     "metadata": {},
     "output_type": "execute_result"
    }
   ],
   "source": [
    "find_repeated_freq(changes)"
   ]
  },
  {
   "cell_type": "markdown",
   "metadata": {},
   "source": [
    "# Day 2"
   ]
  },
  {
   "cell_type": "markdown",
   "metadata": {},
   "source": [
    "### Part 1"
   ]
  },
  {
   "cell_type": "code",
   "execution_count": 3,
   "metadata": {},
   "outputs": [
    {
     "data": {
      "text/plain": [
       "['bpacnmethizqynfajoxtvkwudr',\n",
       " 'bpocnmclhizqygfsjoxtvkwukr',\n",
       " 'zpacnmwlhizqygfsjoxzvkwudr',\n",
       " 'bpacpoelhqzqygfsjoxtvkwudr',\n",
       " 'bpacnlelhizqyzfsjoxtvkwukr']"
      ]
     },
     "execution_count": 3,
     "metadata": {},
     "output_type": "execute_result"
    }
   ],
   "source": [
    "box_ids = read_input(2).split()\n",
    "box_ids[-5:]"
   ]
  },
  {
   "cell_type": "code",
   "execution_count": 5,
   "metadata": {},
   "outputs": [],
   "source": [
    "letter_counts = [Counter(x) for x in box_ids]"
   ]
  },
  {
   "cell_type": "code",
   "execution_count": 7,
   "metadata": {},
   "outputs": [
    {
     "data": {
      "text/plain": [
       "8820"
      ]
     },
     "execution_count": 7,
     "metadata": {},
     "output_type": "execute_result"
    }
   ],
   "source": [
    "sum([2 in count.values() for count in letter_counts]) * sum([3 in count.values() for count in letter_counts])"
   ]
  },
  {
   "cell_type": "markdown",
   "metadata": {},
   "source": [
    "### Part 2"
   ]
  },
  {
   "cell_type": "code",
   "execution_count": 17,
   "metadata": {},
   "outputs": [],
   "source": [
    "def edit_list(s):\n",
    "    return [s[:i] + '*' + s[i+1:] for i in range(len(s))]"
   ]
  },
  {
   "cell_type": "code",
   "execution_count": 18,
   "metadata": {},
   "outputs": [
    {
     "data": {
      "text/plain": [
       "['*bcde', 'a*cde', 'ab*de', 'abc*e', 'abcd*']"
      ]
     },
     "execution_count": 18,
     "metadata": {},
     "output_type": "execute_result"
    }
   ],
   "source": [
    "edit_list('abcde')"
   ]
  },
  {
   "cell_type": "code",
   "execution_count": 20,
   "metadata": {},
   "outputs": [
    {
     "name": "stdout",
     "output_type": "stream",
     "text": [
      "bpacnmglhizqygfsjixtkwudr\n"
     ]
    }
   ],
   "source": [
    "seen_edits = set()\n",
    "for box_id in box_ids:\n",
    "    edits = edit_list(box_id)\n",
    "    for edit in edits:\n",
    "        if edit in seen_edits:\n",
    "            print(edit.replace('*', ''))\n",
    "        else:\n",
    "            seen_edits.add(edit)"
   ]
  },
  {
   "cell_type": "markdown",
   "metadata": {},
   "source": [
    "# Day 3"
   ]
  },
  {
   "cell_type": "markdown",
   "metadata": {},
   "source": [
    "### Part 1"
   ]
  },
  {
   "cell_type": "code",
   "execution_count": 5,
   "metadata": {},
   "outputs": [
    {
     "data": {
      "text/plain": [
       "['#1229 @ 488,649: 27x21',\n",
       " '#1230 @ 28,723: 27x15',\n",
       " '#1231 @ 920,956: 18x23',\n",
       " '#1232 @ 23,641: 17x13',\n",
       " '#1233 @ 437,811: 19x10']"
      ]
     },
     "execution_count": 5,
     "metadata": {},
     "output_type": "execute_result"
    }
   ],
   "source": [
    "claims = read_input(3).splitlines()\n",
    "claims[-5:]"
   ]
  },
  {
   "cell_type": "code",
   "execution_count": 12,
   "metadata": {},
   "outputs": [
    {
     "data": {
      "text/plain": [
       "(1233, 437, 811, 19, 10)"
      ]
     },
     "execution_count": 12,
     "metadata": {},
     "output_type": "execute_result"
    }
   ],
   "source": [
    "Integers2(claims[-1])"
   ]
  },
  {
   "cell_type": "code",
   "execution_count": 20,
   "metadata": {},
   "outputs": [],
   "source": [
    "def parse_claim(claim):\n",
    "    claim_id, hbuffer, vbuffer, hlen, vlen = Integers2(claim)\n",
    "    hslice = slice(hbuffer, hbuffer + hlen)\n",
    "    vslice = slice(vbuffer, vbuffer + vlen)\n",
    "    return claim_id, hslice, vslice\n",
    "\n",
    "assert(parse_claim('#123 @ 3,2: 5x4') == (123, slice(3, 8), slice(2, 6)))"
   ]
  },
  {
   "cell_type": "code",
   "execution_count": 21,
   "metadata": {},
   "outputs": [
    {
     "data": {
      "text/plain": [
       "98005"
      ]
     },
     "execution_count": 21,
     "metadata": {},
     "output_type": "execute_result"
    }
   ],
   "source": [
    "fabric = np.zeros([1000, 1000])\n",
    "for claim in claims:\n",
    "    _, hslice, vslice = parse_claim(claim)\n",
    "    fabric[hslice, vslice] += 1\n",
    "(fabric > 1).sum()"
   ]
  },
  {
   "cell_type": "markdown",
   "metadata": {},
   "source": [
    "### Part 2"
   ]
  },
  {
   "cell_type": "code",
   "execution_count": 22,
   "metadata": {},
   "outputs": [
    {
     "name": "stdout",
     "output_type": "stream",
     "text": [
      "331\n"
     ]
    }
   ],
   "source": [
    "for claim in claims:\n",
    "    claim_id, hslice, vslice = parse_claim(claim)\n",
    "    if (fabric[hslice, vslice] == 1).all():\n",
    "        print(claim_id)"
   ]
  },
  {
   "cell_type": "markdown",
   "metadata": {},
   "source": [
    "# Day 4"
   ]
  },
  {
   "cell_type": "markdown",
   "metadata": {},
   "source": [
    "### Part 1"
   ]
  },
  {
   "cell_type": "code",
   "execution_count": 6,
   "metadata": {},
   "outputs": [
    {
     "data": {
      "text/plain": [
       "['[1518-02-12 23:50] Guard #1789 begins shift',\n",
       " '[1518-02-13 00:05] falls asleep',\n",
       " '[1518-02-13 00:25] wakes up',\n",
       " '[1518-02-13 00:40] falls asleep',\n",
       " '[1518-02-13 00:52] wakes up',\n",
       " '[1518-02-14 00:01] Guard #2617 begins shift',\n",
       " '[1518-02-14 00:22] falls asleep',\n",
       " '[1518-02-14 00:29] wakes up',\n",
       " '[1518-02-14 00:47] falls asleep',\n",
       " '[1518-02-14 00:50] wakes up']"
      ]
     },
     "execution_count": 6,
     "metadata": {},
     "output_type": "execute_result"
    }
   ],
   "source": [
    "records = sorted(read_input(4).split('\\n'))\n",
    "records[:10]"
   ]
  },
  {
   "cell_type": "markdown",
   "metadata": {},
   "source": [
    "We need to be careful, since a guard can start their shift on the previous day."
   ]
  },
  {
   "cell_type": "code",
   "execution_count": 55,
   "metadata": {},
   "outputs": [],
   "source": [
    "def parse_records(records):\n",
    "    IDs = []\n",
    "    all_times = []\n",
    "    for i, record in enumerate(records):\n",
    "        record = record.split()\n",
    "        if len(record) == 6:\n",
    "            IDs.append(record[3])\n",
    "            if i != 0:\n",
    "                all_times.append(times)\n",
    "            times = []\n",
    "        else:\n",
    "            times.append(int(record[1][3:5]))\n",
    "    all_times.append(times)\n",
    "    return IDs, all_times"
   ]
  },
  {
   "cell_type": "code",
   "execution_count": 30,
   "metadata": {},
   "outputs": [],
   "source": [
    "def get_date(record):\n",
    "    date = record.split()[0].strip('[')\n",
    "    return date.replace('5', '9', 1) #change the year for pandas\n",
    "\n",
    "assert(get_date('[1518-02-13 00:05] falls asleep') == '1918-02-13')"
   ]
  },
  {
   "cell_type": "code",
   "execution_count": 56,
   "metadata": {},
   "outputs": [],
   "source": [
    "IDs, all_times = parse_records(records)\n",
    "date = pd.date_range(start=get_date(records[1]), end=get_date(records[-1]))"
   ]
  },
  {
   "cell_type": "code",
   "execution_count": 50,
   "metadata": {},
   "outputs": [],
   "source": [
    "def parse_times(all_times):\n",
    "    minute_array = np.zeros([len(all_times), 60])  \n",
    "    for row, times in enumerate(all_times):\n",
    "        for i in range(0, len(times), 2):\n",
    "            minute_array[row, times[i]:times[i+1]] = 1\n",
    "    return minute_array                "
   ]
  },
  {
   "cell_type": "code",
   "execution_count": 57,
   "metadata": {},
   "outputs": [],
   "source": [
    "minute = parse_times(all_times)"
   ]
  },
  {
   "cell_type": "code",
   "execution_count": 53,
   "metadata": {},
   "outputs": [
    {
     "data": {
      "text/plain": [
       "[[5, 25, 40, 52],\n",
       " [22, 29, 47, 50, 53, 56],\n",
       " [1, 25, 35, 45],\n",
       " [21, 47],\n",
       " [21, 45, 54, 58]]"
      ]
     },
     "execution_count": 53,
     "metadata": {},
     "output_type": "execute_result"
    }
   ],
   "source": [
    "all_times[:5]"
   ]
  },
  {
   "cell_type": "code",
   "execution_count": 106,
   "metadata": {},
   "outputs": [
    {
     "data": {
      "text/plain": [
       "array([[ 0.,  0.,  0.,  0.,  0.,  1.,  1.,  1.,  1.,  1.,  1.,  1.,  1.,\n",
       "         1.,  1.,  1.,  1.,  1.,  1.,  1.,  1.,  1.,  1.,  1.,  1.,  0.,\n",
       "         0.,  0.,  0.,  0.,  0.,  0.,  0.,  0.,  0.,  0.,  0.,  0.,  0.,\n",
       "         0.,  1.,  1.,  1.,  1.,  1.,  1.,  1.,  1.,  1.,  1.,  1.,  1.,\n",
       "         0.,  0.,  0.,  0.,  0.,  0.,  0.,  0.]])"
      ]
     },
     "execution_count": 106,
     "metadata": {},
     "output_type": "execute_result"
    }
   ],
   "source": [
    "minute[:1]"
   ]
  },
  {
   "cell_type": "code",
   "execution_count": 98,
   "metadata": {},
   "outputs": [],
   "source": [
    "df = pd.DataFrame(data=minute, index=date)\n",
    "df['ID'] = IDs"
   ]
  },
  {
   "cell_type": "code",
   "execution_count": 99,
   "metadata": {},
   "outputs": [
    {
     "data": {
      "text/html": [
       "<div>\n",
       "<style scoped>\n",
       "    .dataframe tbody tr th:only-of-type {\n",
       "        vertical-align: middle;\n",
       "    }\n",
       "\n",
       "    .dataframe tbody tr th {\n",
       "        vertical-align: top;\n",
       "    }\n",
       "\n",
       "    .dataframe thead th {\n",
       "        text-align: right;\n",
       "    }\n",
       "</style>\n",
       "<table border=\"1\" class=\"dataframe\">\n",
       "  <thead>\n",
       "    <tr style=\"text-align: right;\">\n",
       "      <th></th>\n",
       "      <th>0</th>\n",
       "      <th>1</th>\n",
       "      <th>2</th>\n",
       "      <th>3</th>\n",
       "      <th>4</th>\n",
       "      <th>5</th>\n",
       "      <th>6</th>\n",
       "      <th>7</th>\n",
       "      <th>8</th>\n",
       "      <th>9</th>\n",
       "      <th>...</th>\n",
       "      <th>51</th>\n",
       "      <th>52</th>\n",
       "      <th>53</th>\n",
       "      <th>54</th>\n",
       "      <th>55</th>\n",
       "      <th>56</th>\n",
       "      <th>57</th>\n",
       "      <th>58</th>\n",
       "      <th>59</th>\n",
       "      <th>ID</th>\n",
       "    </tr>\n",
       "  </thead>\n",
       "  <tbody>\n",
       "    <tr>\n",
       "      <th>1918-02-13</th>\n",
       "      <td>0.0</td>\n",
       "      <td>0.0</td>\n",
       "      <td>0.0</td>\n",
       "      <td>0.0</td>\n",
       "      <td>0.0</td>\n",
       "      <td>1.0</td>\n",
       "      <td>1.0</td>\n",
       "      <td>1.0</td>\n",
       "      <td>1.0</td>\n",
       "      <td>1.0</td>\n",
       "      <td>...</td>\n",
       "      <td>1.0</td>\n",
       "      <td>0.0</td>\n",
       "      <td>0.0</td>\n",
       "      <td>0.0</td>\n",
       "      <td>0.0</td>\n",
       "      <td>0.0</td>\n",
       "      <td>0.0</td>\n",
       "      <td>0.0</td>\n",
       "      <td>0.0</td>\n",
       "      <td>#1789</td>\n",
       "    </tr>\n",
       "    <tr>\n",
       "      <th>1918-02-14</th>\n",
       "      <td>0.0</td>\n",
       "      <td>0.0</td>\n",
       "      <td>0.0</td>\n",
       "      <td>0.0</td>\n",
       "      <td>0.0</td>\n",
       "      <td>0.0</td>\n",
       "      <td>0.0</td>\n",
       "      <td>0.0</td>\n",
       "      <td>0.0</td>\n",
       "      <td>0.0</td>\n",
       "      <td>...</td>\n",
       "      <td>0.0</td>\n",
       "      <td>0.0</td>\n",
       "      <td>1.0</td>\n",
       "      <td>1.0</td>\n",
       "      <td>1.0</td>\n",
       "      <td>0.0</td>\n",
       "      <td>0.0</td>\n",
       "      <td>0.0</td>\n",
       "      <td>0.0</td>\n",
       "      <td>#2617</td>\n",
       "    </tr>\n",
       "    <tr>\n",
       "      <th>1918-02-15</th>\n",
       "      <td>0.0</td>\n",
       "      <td>1.0</td>\n",
       "      <td>1.0</td>\n",
       "      <td>1.0</td>\n",
       "      <td>1.0</td>\n",
       "      <td>1.0</td>\n",
       "      <td>1.0</td>\n",
       "      <td>1.0</td>\n",
       "      <td>1.0</td>\n",
       "      <td>1.0</td>\n",
       "      <td>...</td>\n",
       "      <td>0.0</td>\n",
       "      <td>0.0</td>\n",
       "      <td>0.0</td>\n",
       "      <td>0.0</td>\n",
       "      <td>0.0</td>\n",
       "      <td>0.0</td>\n",
       "      <td>0.0</td>\n",
       "      <td>0.0</td>\n",
       "      <td>0.0</td>\n",
       "      <td>#1997</td>\n",
       "    </tr>\n",
       "    <tr>\n",
       "      <th>1918-02-16</th>\n",
       "      <td>0.0</td>\n",
       "      <td>0.0</td>\n",
       "      <td>0.0</td>\n",
       "      <td>0.0</td>\n",
       "      <td>0.0</td>\n",
       "      <td>0.0</td>\n",
       "      <td>0.0</td>\n",
       "      <td>0.0</td>\n",
       "      <td>0.0</td>\n",
       "      <td>0.0</td>\n",
       "      <td>...</td>\n",
       "      <td>0.0</td>\n",
       "      <td>0.0</td>\n",
       "      <td>0.0</td>\n",
       "      <td>0.0</td>\n",
       "      <td>0.0</td>\n",
       "      <td>0.0</td>\n",
       "      <td>0.0</td>\n",
       "      <td>0.0</td>\n",
       "      <td>0.0</td>\n",
       "      <td>#3041</td>\n",
       "    </tr>\n",
       "    <tr>\n",
       "      <th>1918-02-17</th>\n",
       "      <td>0.0</td>\n",
       "      <td>0.0</td>\n",
       "      <td>0.0</td>\n",
       "      <td>0.0</td>\n",
       "      <td>0.0</td>\n",
       "      <td>0.0</td>\n",
       "      <td>0.0</td>\n",
       "      <td>0.0</td>\n",
       "      <td>0.0</td>\n",
       "      <td>0.0</td>\n",
       "      <td>...</td>\n",
       "      <td>0.0</td>\n",
       "      <td>0.0</td>\n",
       "      <td>0.0</td>\n",
       "      <td>1.0</td>\n",
       "      <td>1.0</td>\n",
       "      <td>1.0</td>\n",
       "      <td>1.0</td>\n",
       "      <td>0.0</td>\n",
       "      <td>0.0</td>\n",
       "      <td>#1873</td>\n",
       "    </tr>\n",
       "  </tbody>\n",
       "</table>\n",
       "<p>5 rows × 61 columns</p>\n",
       "</div>"
      ],
      "text/plain": [
       "              0    1    2    3    4    5    6    7    8    9  ...     51   52  \\\n",
       "1918-02-13  0.0  0.0  0.0  0.0  0.0  1.0  1.0  1.0  1.0  1.0  ...    1.0  0.0   \n",
       "1918-02-14  0.0  0.0  0.0  0.0  0.0  0.0  0.0  0.0  0.0  0.0  ...    0.0  0.0   \n",
       "1918-02-15  0.0  1.0  1.0  1.0  1.0  1.0  1.0  1.0  1.0  1.0  ...    0.0  0.0   \n",
       "1918-02-16  0.0  0.0  0.0  0.0  0.0  0.0  0.0  0.0  0.0  0.0  ...    0.0  0.0   \n",
       "1918-02-17  0.0  0.0  0.0  0.0  0.0  0.0  0.0  0.0  0.0  0.0  ...    0.0  0.0   \n",
       "\n",
       "             53   54   55   56   57   58   59     ID  \n",
       "1918-02-13  0.0  0.0  0.0  0.0  0.0  0.0  0.0  #1789  \n",
       "1918-02-14  1.0  1.0  1.0  0.0  0.0  0.0  0.0  #2617  \n",
       "1918-02-15  0.0  0.0  0.0  0.0  0.0  0.0  0.0  #1997  \n",
       "1918-02-16  0.0  0.0  0.0  0.0  0.0  0.0  0.0  #3041  \n",
       "1918-02-17  0.0  1.0  1.0  1.0  1.0  0.0  0.0  #1873  \n",
       "\n",
       "[5 rows x 61 columns]"
      ]
     },
     "execution_count": 99,
     "metadata": {},
     "output_type": "execute_result"
    }
   ],
   "source": [
    "df.head()"
   ]
  },
  {
   "cell_type": "code",
   "execution_count": 100,
   "metadata": {},
   "outputs": [
    {
     "data": {
      "text/plain": [
       "ID\n",
       "#3041    542.0\n",
       "#1901    502.0\n",
       "#1997    498.0\n",
       "#1069    478.0\n",
       "#1789    443.0\n",
       "dtype: float64"
      ]
     },
     "execution_count": 100,
     "metadata": {},
     "output_type": "execute_result"
    }
   ],
   "source": [
    "id_rank = df.groupby('ID').sum().sum(axis=1).sort_values(ascending=False)\n",
    "id_rank.head()"
   ]
  },
  {
   "cell_type": "code",
   "execution_count": 101,
   "metadata": {},
   "outputs": [
    {
     "data": {
      "text/plain": [
       "39    16.0\n",
       "42    15.0\n",
       "36    15.0\n",
       "38    15.0\n",
       "43    15.0\n",
       "Name: #3041, dtype: float64"
      ]
     },
     "execution_count": 101,
     "metadata": {},
     "output_type": "execute_result"
    }
   ],
   "source": [
    "guard = id_rank.index[0]\n",
    "minute_rank = df.groupby('ID').sum().loc[guard].sort_values(ascending=False)\n",
    "minute_rank.head()"
   ]
  },
  {
   "cell_type": "code",
   "execution_count": 102,
   "metadata": {},
   "outputs": [
    {
     "data": {
      "text/plain": [
       "118599"
      ]
     },
     "execution_count": 102,
     "metadata": {},
     "output_type": "execute_result"
    }
   ],
   "source": [
    "int(guard[1:]) * minute_rank.index[0]"
   ]
  },
  {
   "cell_type": "markdown",
   "metadata": {},
   "source": [
    "### Part 2"
   ]
  },
  {
   "cell_type": "code",
   "execution_count": 103,
   "metadata": {},
   "outputs": [
    {
     "data": {
      "text/plain": [
       "ID\n",
       "#1997    17.0\n",
       "#3041    16.0\n",
       "#1901    15.0\n",
       "#2213    14.0\n",
       "#1069    13.0\n",
       "dtype: float64"
      ]
     },
     "execution_count": 103,
     "metadata": {},
     "output_type": "execute_result"
    }
   ],
   "source": [
    "id_rank = df.groupby('ID').sum().max(axis=1).sort_values(ascending=False)\n",
    "id_rank.head()"
   ]
  },
  {
   "cell_type": "code",
   "execution_count": 104,
   "metadata": {},
   "outputs": [
    {
     "data": {
      "text/plain": [
       "17    17.0\n",
       "18    16.0\n",
       "19    15.0\n",
       "16    15.0\n",
       "20    14.0\n",
       "Name: #1997, dtype: float64"
      ]
     },
     "execution_count": 104,
     "metadata": {},
     "output_type": "execute_result"
    }
   ],
   "source": [
    "guard = id_rank.index[0]\n",
    "minute_rank = df.groupby('ID').sum().loc[guard].sort_values(ascending=False)\n",
    "minute_rank.head()"
   ]
  },
  {
   "cell_type": "code",
   "execution_count": 105,
   "metadata": {},
   "outputs": [
    {
     "data": {
      "text/plain": [
       "33949"
      ]
     },
     "execution_count": 105,
     "metadata": {},
     "output_type": "execute_result"
    }
   ],
   "source": [
    "int(guard[1:]) * minute_rank.index[0]"
   ]
  },
  {
   "cell_type": "markdown",
   "metadata": {},
   "source": [
    "Well, I would have solved that differently if I had realised that the date was a red herring :(\n",
    "That is the disadvantage with part 2 being unknown - you have to make guesses about the best data structures."
   ]
  },
  {
   "cell_type": "markdown",
   "metadata": {},
   "source": [
    "# Day 5"
   ]
  },
  {
   "cell_type": "markdown",
   "metadata": {},
   "source": [
    "### Part 1"
   ]
  },
  {
   "cell_type": "markdown",
   "metadata": {},
   "source": [
    "I tried a number of approaches to solving this. Slowest to fastest:\n",
    "- re.sub(pattern='aA|Aa|bB...', replace='')\n",
    "- iterate through string, and remove reactions by concatenating the two sides (the concat is expensive)\n",
    "- iterate through list of chars, and remove reactions by pop() (pop is O(n) if not from the end of a list)\n",
    "- current solution, since it makes the pop() efficient!"
   ]
  },
  {
   "cell_type": "code",
   "execution_count": 64,
   "metadata": {},
   "outputs": [],
   "source": [
    "def trigger_all(polymer):\n",
    "    polymer = list(reversed(polymer))\n",
    "    final_polymer = []\n",
    "    while len(polymer):\n",
    "        final_polymer.append(polymer.pop())\n",
    "        try:\n",
    "            while polymer[-1] == final_polymer[-1].swapcase():\n",
    "                polymer.pop()\n",
    "                final_polymer.pop()\n",
    "        except IndexError:\n",
    "            continue\n",
    "    return ''.join(final_polymer)\n",
    "\n",
    "assert(trigger_all('') == '')\n",
    "assert(trigger_all('aA') == '')\n",
    "assert(trigger_all('aBbA') == '')\n",
    "assert(trigger_all('abAB') == 'abAB')\n",
    "assert(trigger_all('dabAcCaCBAcCcaDA') == 'dabCBAcaDA')"
   ]
  },
  {
   "cell_type": "code",
   "execution_count": 66,
   "metadata": {},
   "outputs": [
    {
     "data": {
      "text/plain": [
       "9822"
      ]
     },
     "execution_count": 66,
     "metadata": {},
     "output_type": "execute_result"
    }
   ],
   "source": [
    "len(trigger_all(read_input(5)))"
   ]
  },
  {
   "cell_type": "markdown",
   "metadata": {},
   "source": [
    "### Part 2"
   ]
  },
  {
   "cell_type": "code",
   "execution_count": 67,
   "metadata": {},
   "outputs": [
    {
     "data": {
      "text/plain": [
       "5726"
      ]
     },
     "execution_count": 67,
     "metadata": {},
     "output_type": "execute_result"
    }
   ],
   "source": [
    "polymer = read_input(5)\n",
    "lengths = []\n",
    "for letter in string.ascii_lowercase:\n",
    "    new_polymer = re.sub(letter, '', polymer, flags=re.IGNORECASE)\n",
    "    lengths.append(len(trigger_all(new_polymer)))\n",
    "min(lengths)"
   ]
  },
  {
   "cell_type": "markdown",
   "metadata": {},
   "source": [
    "# Day 6"
   ]
  },
  {
   "cell_type": "code",
   "execution_count": 3,
   "metadata": {},
   "outputs": [],
   "source": [
    "def manhattan_distance(a, b):\n",
    "    return abs(b[0]-a[0]) + abs(b[1]-a[1])\n",
    "    \n",
    "assert(manhattan_distance((0,0), (3,4)) == 7)"
   ]
  },
  {
   "cell_type": "code",
   "execution_count": 4,
   "metadata": {},
   "outputs": [],
   "source": [
    "def closest_coord(x, coords):\n",
    "    \"Returns index of closest coord, or -1 if it's a tie\"\n",
    "    distances = [manhattan_distance(x, c) for c in coords]\n",
    "    sorted_distances = sorted(distances)\n",
    "    if sorted_distances[0] == sorted_distances[1]:\n",
    "        return -1\n",
    "    else:\n",
    "        return distances.index(sorted_distances[0])\n",
    "\n",
    "assert(closest_coord((0,0), ((1,1), (2,2))) == 0)\n",
    "assert(closest_coord((0,0), ((1,1), (0,0))) == 1)\n",
    "assert(closest_coord((0,0), ((1,1), (2,0))) == -1)"
   ]
  },
  {
   "cell_type": "code",
   "execution_count": 5,
   "metadata": {},
   "outputs": [
    {
     "data": {
      "text/plain": [
       "((181, 47), (337, 53), (331, 40), (137, 57), (200, 96))"
      ]
     },
     "execution_count": 5,
     "metadata": {},
     "output_type": "execute_result"
    }
   ],
   "source": [
    "coords = Array(read_input(6))\n",
    "coords[:5]"
   ]
  },
  {
   "cell_type": "code",
   "execution_count": 6,
   "metadata": {},
   "outputs": [],
   "source": [
    "max_x = max([c[0] for c in coords])\n",
    "max_y = max([c[1] for c in coords])\n",
    "grid_dims = (max_x + 1, max_y + 1)"
   ]
  },
  {
   "cell_type": "code",
   "execution_count": 7,
   "metadata": {},
   "outputs": [
    {
     "name": "stdout",
     "output_type": "stream",
     "text": [
      " "
     ]
    }
   ],
   "source": [
    "%%prun\n",
    "grid = np.empty(grid_dims, dtype=np.int8)\n",
    "for i in range(grid_dims[0]):\n",
    "    for j in range(grid_dims[1]):\n",
    "        grid[i, j] = closest_coord((i, j), coords)        "
   ]
  },
  {
   "cell_type": "code",
   "execution_count": 8,
   "metadata": {},
   "outputs": [],
   "source": [
    "ranking = Counter(list(grid.flatten()))\n",
    "border_values = {*grid[0, :], *grid[:, 0], *grid[-1, :], *grid[:, -1]}\n",
    "final_ranking = {k: v for k,v in ranking.items() if k not in border_values}"
   ]
  },
  {
   "cell_type": "code",
   "execution_count": 9,
   "metadata": {},
   "outputs": [
    {
     "data": {
      "text/plain": [
       "4233"
      ]
     },
     "execution_count": 9,
     "metadata": {},
     "output_type": "execute_result"
    }
   ],
   "source": [
    "max(final_ranking.values())"
   ]
  },
  {
   "cell_type": "markdown",
   "metadata": {},
   "source": [
    "### Part 2"
   ]
  },
  {
   "cell_type": "code",
   "execution_count": 10,
   "metadata": {},
   "outputs": [],
   "source": [
    "def coords_distance_sum(x, coords):\n",
    "    \"Returns sum of distances to each coord\"\n",
    "    return sum([manhattan_distance(x, c) for c in coords])\n",
    "\n",
    "assert(coords_distance_sum((0,0), ((1,1), (2,2))) == 6)\n",
    "assert(coords_distance_sum((0,0), ((1,1), (0,0))) == 2)\n",
    "assert(coords_distance_sum((0,0), ((1,1), (2,0))) == 4)"
   ]
  },
  {
   "cell_type": "code",
   "execution_count": 33,
   "metadata": {},
   "outputs": [
    {
     "name": "stdout",
     "output_type": "stream",
     "text": [
      " "
     ]
    }
   ],
   "source": [
    "%%prun\n",
    "grid = np.empty(grid_dims, dtype=np.int32)\n",
    "for i in range(grid_dims[0]):\n",
    "    for j in range(grid_dims[1]):\n",
    "        grid[i, j] = coords_distance_sum((i, j), coords) "
   ]
  },
  {
   "cell_type": "code",
   "execution_count": 34,
   "metadata": {},
   "outputs": [
    {
     "data": {
      "text/plain": [
       "45290"
      ]
     },
     "execution_count": 34,
     "metadata": {},
     "output_type": "execute_result"
    }
   ],
   "source": [
    "(grid < 10000).sum()"
   ]
  },
  {
   "cell_type": "code",
   "execution_count": 70,
   "metadata": {},
   "outputs": [],
   "source": [
    "def manhattan_grid(c):\n",
    "    grid = np.empty(grid_dims, dtype=np.int32)\n",
    "    for i in range(grid_dims[0]):\n",
    "        grid[i, 0] = manhattan_distance((i,0), c)\n",
    "    base = grid[:, 0]\n",
    "    for j in range(1, grid_dims[1]):\n",
    "        grid[:, j] = base - base.min() + abs(j-c[1])\n",
    "    return grid  "
   ]
  },
  {
   "cell_type": "code",
   "execution_count": 75,
   "metadata": {},
   "outputs": [
    {
     "name": "stdout",
     "output_type": "stream",
     "text": [
      " "
     ]
    },
    {
     "data": {
      "text/plain": [
       "45290"
      ]
     },
     "execution_count": 75,
     "metadata": {},
     "output_type": "execute_result"
    }
   ],
   "source": [
    "%%prun\n",
    "grid = sum([manhattan_grid(c) for c in coords])\n",
    "(grid < 10000).sum()"
   ]
  },
  {
   "cell_type": "markdown",
   "metadata": {},
   "source": [
    "# Day 7"
   ]
  },
  {
   "cell_type": "markdown",
   "metadata": {},
   "source": [
    "### Part 1"
   ]
  },
  {
   "cell_type": "code",
   "execution_count": 4,
   "metadata": {},
   "outputs": [],
   "source": [
    "test_instructions = ['Step C must be finished before step A can begin',\n",
    "                     'Step C must be finished before step F can begin',\n",
    "                     'Step A must be finished before step B can begin',\n",
    "                     'Step A must be finished before step D can begin',\n",
    "                     'Step B must be finished before step E can begin',\n",
    "                     'Step D must be finished before step E can begin',\n",
    "                     'Step F must be finished before step E can begin'\n",
    "                    ]"
   ]
  },
  {
   "cell_type": "code",
   "execution_count": 15,
   "metadata": {},
   "outputs": [],
   "source": [
    "def parse_instructions(instructions):\n",
    "    children = defaultdict(list)\n",
    "    parents = defaultdict(list)\n",
    "    steps = set()\n",
    "    for i in instructions:\n",
    "        i = i.split()\n",
    "        parent, child = i[1], i[7]\n",
    "        parents[child].append(parent)\n",
    "        children[parent].append(child)\n",
    "        steps.add(parent)\n",
    "        steps.add(child)\n",
    "    return children, parents, steps"
   ]
  },
  {
   "cell_type": "code",
   "execution_count": 24,
   "metadata": {},
   "outputs": [],
   "source": [
    "def find_possible_starts(parents, steps):\n",
    "    return {s for s in steps if not parents[s]}"
   ]
  },
  {
   "cell_type": "code",
   "execution_count": 25,
   "metadata": {},
   "outputs": [],
   "source": [
    "c, p, s = parse_instructions(test_instructions)\n",
    "assert('B' in c['A'])\n",
    "assert('D' in c['A'])\n",
    "assert(c['E'] == [])\n",
    "\n",
    "assert(find_possible_starts(p, s) == {'C'})"
   ]
  },
  {
   "cell_type": "code",
   "execution_count": 26,
   "metadata": {},
   "outputs": [],
   "source": [
    "def find_sequence(instructions):\n",
    "    children, parents, steps = parse_instructions(instructions)\n",
    "    candidates = find_possible_starts(parents, steps)\n",
    "    sequence = []\n",
    "    while candidates:\n",
    "        for c in sorted(candidates):\n",
    "            if all([(p in sequence) for p in parents[c]]): #verify all preceding steps completed\n",
    "                next_step = c\n",
    "                break\n",
    "        candidates.remove(next_step)\n",
    "        sequence.append(next_step)\n",
    "        candidates.update(children[next_step])\n",
    "    return ''.join(sequence)"
   ]
  },
  {
   "cell_type": "code",
   "execution_count": 27,
   "metadata": {},
   "outputs": [
    {
     "data": {
      "text/plain": [
       "'CABDFE'"
      ]
     },
     "execution_count": 27,
     "metadata": {},
     "output_type": "execute_result"
    }
   ],
   "source": [
    "find_sequence(test_instructions)"
   ]
  },
  {
   "cell_type": "code",
   "execution_count": 28,
   "metadata": {},
   "outputs": [
    {
     "data": {
      "text/plain": [
       "'BETUFNVADWGPLRJOHMXKZQCISY'"
      ]
     },
     "execution_count": 28,
     "metadata": {},
     "output_type": "execute_result"
    }
   ],
   "source": [
    "find_sequence(read_input(7).splitlines())"
   ]
  },
  {
   "cell_type": "markdown",
   "metadata": {},
   "source": [
    "### Part 2"
   ]
  },
  {
   "cell_type": "code",
   "execution_count": 45,
   "metadata": {},
   "outputs": [],
   "source": [
    "def job_cost(c, base_cost):\n",
    "    return ord(c) - ord('A') + 1 + base_cost\n",
    "\n",
    "def progress_jobs(assigned):\n",
    "    for worker in assigned:\n",
    "        if assigned[worker]:\n",
    "            assigned[worker][1] -= 1\n",
    "\n",
    "def find_freed_workers(assigned):\n",
    "    return [worker for worker in assigned if assigned[worker] and assigned[worker][1] == 0]"
   ]
  },
  {
   "cell_type": "code",
   "execution_count": 54,
   "metadata": {},
   "outputs": [],
   "source": [
    "def find_cost(instructions, num_workers=5, base_cost=60):\n",
    "    children, parents, steps = parse_instructions(instructions)\n",
    "    candidates = find_possible_starts(parents, steps)\n",
    "    completed = set()\n",
    "    time = 0\n",
    "    assigned = {i: None for i in range(num_workers)} #we will assign tasks to workers\n",
    "    while len(completed) < len(steps):\n",
    "        #assign jobs\n",
    "        available = [worker for worker in assigned if not assigned[worker]]\n",
    "        for c in sorted(candidates):\n",
    "            if all([(p in completed) for p in parents[c]]) and available: #verify all preceding steps completed\n",
    "                assigned[available.pop()] = [c, job_cost(c, base_cost)]\n",
    "                candidates.remove(c)\n",
    "        #increment time and progress jobs\n",
    "        time += 1\n",
    "        progress_jobs(assigned)\n",
    "        freed = find_freed_workers(assigned)\n",
    "        for worker in freed:\n",
    "            job = assigned[worker]\n",
    "            completed.add(job[0])\n",
    "            candidates.update(children[job[0]])\n",
    "            assigned[worker] = None\n",
    "    return time"
   ]
  },
  {
   "cell_type": "code",
   "execution_count": 62,
   "metadata": {},
   "outputs": [
    {
     "data": {
      "text/plain": [
       "15"
      ]
     },
     "execution_count": 62,
     "metadata": {},
     "output_type": "execute_result"
    }
   ],
   "source": [
    "find_cost(test_instructions, num_workers=2, base_cost=0)"
   ]
  },
  {
   "cell_type": "code",
   "execution_count": 63,
   "metadata": {},
   "outputs": [
    {
     "data": {
      "text/plain": [
       "848"
      ]
     },
     "execution_count": 63,
     "metadata": {},
     "output_type": "execute_result"
    }
   ],
   "source": [
    "find_cost(read_input(7).splitlines())"
   ]
  }
 ],
 "metadata": {
  "kernelspec": {
   "display_name": "Python 3",
   "language": "python",
   "name": "python3"
  },
  "language_info": {
   "codemirror_mode": {
    "name": "ipython",
    "version": 3
   },
   "file_extension": ".py",
   "mimetype": "text/x-python",
   "name": "python",
   "nbconvert_exporter": "python",
   "pygments_lexer": "ipython3",
   "version": "3.6.6"
  }
 },
 "nbformat": 4,
 "nbformat_minor": 2
}
